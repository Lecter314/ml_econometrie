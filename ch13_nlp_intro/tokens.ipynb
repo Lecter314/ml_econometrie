{
 "cells": [
  {
   "cell_type": "markdown",
   "id": "16634181-3c5f-4ddf-a108-48d4054a3903",
   "metadata": {},
   "source": [
    "# Tokens et autres pré-traitements\n",
    "# 12 décembre 2021\n",
    "# Jérémy L'Hour"
   ]
  },
  {
   "cell_type": "code",
   "execution_count": 22,
   "id": "a447f0d8-f87f-4490-abba-d953076278b9",
   "metadata": {},
   "outputs": [],
   "source": [
    "from nltk.corpus import stopwords\n",
    "from nltk import word_tokenize\n",
    "from nltk.stem.snowball import SnowballStemmer"
   ]
  },
  {
   "cell_type": "code",
   "execution_count": 14,
   "id": "9445f20c-9a16-45cd-81df-21b841dad39f",
   "metadata": {},
   "outputs": [
    {
     "name": "stdout",
     "output_type": "stream",
     "text": [
      "Le Kentucky a été le plus endeuillé par ce phénomène météorologique violent, touchant particulièrement les immenses plaines américaines, des colonnes noires balayant le sol, illuminées par des éclairs intermittents.\n"
     ]
    }
   ],
   "source": [
    "data = \"Le Kentucky a été le plus endeuillé par ce phénomène météorologique violent, touchant particulièrement les immenses plaines américaines, des colonnes noires balayant le sol, illuminées par des éclairs intermittents.\"\n",
    "print(data)"
   ]
  },
  {
   "cell_type": "code",
   "execution_count": 15,
   "id": "0f494337-7ac7-451c-8bee-74f966a883a1",
   "metadata": {},
   "outputs": [
    {
     "name": "stdout",
     "output_type": "stream",
     "text": [
      "le kentucky a été le plus endeuillé par ce phénomène météorologique violent, touchant particulièrement les immenses plaines américaines, des colonnes noires balayant le sol, illuminées par des éclairs intermittents.\n"
     ]
    }
   ],
   "source": [
    "# Mise en minuscule\n",
    "data = data.lower()\n",
    "print(data)"
   ]
  },
  {
   "cell_type": "code",
   "execution_count": 18,
   "id": "185d5b1d-007f-4761-bcec-ced2502517e2",
   "metadata": {},
   "outputs": [
    {
     "name": "stdout",
     "output_type": "stream",
     "text": [
      "{'endeuillé', 'noires', 'éclairs', 'américaines', '.', 'illuminées', 'kentucky', 'plaines', 'des', 'colonnes', 'sol', 'intermittents', 'plus', 'phénomène', 'immenses', 'particulièrement', 'a', 'le', ',', 'météorologique', 'les', 'touchant', 'par', 'violent', 'balayant', 'ce', 'été'}\n"
     ]
    }
   ],
   "source": [
    "# Définition des tokens\n",
    "dico = set(word_tokenize(data, language=\"french\"))\n",
    "print(dico)"
   ]
  },
  {
   "cell_type": "code",
   "execution_count": 21,
   "id": "4bf1fa28-847c-498b-af76-6527c4c6e185",
   "metadata": {},
   "outputs": [
    {
     "name": "stdout",
     "output_type": "stream",
     "text": [
      "['endeuillé', 'noires', 'éclairs', 'américaines', '.', 'illuminées', 'kentucky', 'plaines', 'colonnes', 'sol', 'intermittents', 'plus', 'phénomène', 'immenses', 'particulièrement', 'a', ',', 'météorologique', 'touchant', 'violent', 'balayant']\n"
     ]
    }
   ],
   "source": [
    "# Exclusion des stop-words\n",
    "french_stopwords = set(stopwords.words('french'))\n",
    "trimmed_dico = [mot for mot in dico if not mot in french_stopwords]\n",
    "print(trimmed_dico)"
   ]
  },
  {
   "cell_type": "code",
   "execution_count": 25,
   "id": "9d8e1ef1-b54c-49f0-80db-9d0b4096a026",
   "metadata": {},
   "outputs": [
    {
     "name": "stdout",
     "output_type": "stream",
     "text": [
      "endeuill, noir, éclair, américain, ., illumin, kentucky, plain, colon, sol, intermittent, plus, phénomen, immens, particuli, a, ,, météorolog, touch, violent, balai\n"
     ]
    }
   ],
   "source": [
    "# Racinisation\n",
    "stemmer = SnowballStemmer(language='french')\n",
    "stemmed_dico = [stemmer.stem(mot) for mot in trimmed_dico]\n",
    "print(stemmed_dico)"
   ]
  },
  {
   "cell_type": "code",
   "execution_count": null,
   "id": "41fdf5bd-7850-4988-a53f-c8978a15acdd",
   "metadata": {},
   "outputs": [],
   "source": []
  }
 ],
 "metadata": {
  "kernelspec": {
   "display_name": "Python 3 (ipykernel)",
   "language": "python",
   "name": "python3"
  },
  "language_info": {
   "codemirror_mode": {
    "name": "ipython",
    "version": 3
   },
   "file_extension": ".py",
   "mimetype": "text/x-python",
   "name": "python",
   "nbconvert_exporter": "python",
   "pygments_lexer": "ipython3",
   "version": "3.9.7"
  }
 },
 "nbformat": 4,
 "nbformat_minor": 5
}
