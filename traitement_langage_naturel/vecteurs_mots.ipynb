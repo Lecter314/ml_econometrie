{
 "cells": [
  {
   "cell_type": "markdown",
   "metadata": {},
   "source": [
    "# Vecteurs de mot\n",
    "# 03/12/2021\n",
    "# @author : jeremylhour"
   ]
  },
  {
   "cell_type": "code",
   "execution_count": 1,
   "metadata": {},
   "outputs": [],
   "source": [
    "import numpy as np\n",
    "import matplotlib.pyplot as plt\n",
    "\n",
    "import fasttext.util\n",
    "from sklearn.decomposition import TruncatedSVD"
   ]
  },
  {
   "cell_type": "code",
   "execution_count": 60,
   "metadata": {},
   "outputs": [],
   "source": [
    "# Définition des fonctions utiles\n",
    "\n",
    "def reduce_to_k_dim(M, k=2):\n",
    "    \"\"\" Reduce a co-occurence count matrix of dimensionality (num_corpus_words, num_corpus_words)\n",
    "        to a matrix of dimensionality (num_corpus_words, k) using the following SVD function from Scikit-Learn:\n",
    "            - http://scikit-learn.org/stable/modules/generated/sklearn.decomposition.TruncatedSVD.html\n",
    "    \n",
    "        Params:\n",
    "            M (numpy matrix of shape (number of unique words in the corpus , number of unique words in the corpus)): co-occurence matrix of word counts\n",
    "            k (int): embedding size of each word after dimension reduction\n",
    "        Return:\n",
    "            M_reduced (numpy matrix of shape (number of corpus words, k)): matrix of k-dimensioal word embeddings.\n",
    "                    In terms of the SVD from math class, this actually returns U * S\n",
    "    \"\"\"    \n",
    "    print(f\"Running Truncated SVD over {len(M)} words...\")\n",
    "    svd = TruncatedSVD(n_components=2, n_iter=10, random_state=42)\n",
    "    svd.fit(M)\n",
    "    M_reduced = svd.transform(M)\n",
    "    print(\"Done.\")\n",
    "    return M_reduced\n",
    "\n",
    "def plot_embeddings(M_reduced, word2ind, words, path):\n",
    "    \"\"\" Plot in a scatterplot the embeddings of the words specified in the list \"words\".\n",
    "        NOTE: do not plot all the words listed in M_reduced / word2ind.\n",
    "        Include a label next to each point.\n",
    "        \n",
    "        Params:\n",
    "            M_reduced (numpy matrix of shape (number of unique words in the corpus , 2)): matrix of 2-dimensioal word embeddings\n",
    "            word2ind (dict): dictionary that maps word to indices for matrix M\n",
    "            words (list of strings): words whose embeddings we want to visualize\n",
    "            path (str): where to save\n",
    "    \"\"\"\n",
    "    points = M_reduced[[word2ind[word] for word in words],]\n",
    "    fig, ax = plt.subplots()\n",
    "    ax.scatter(points[:,0], points[:,1])\n",
    "\n",
    "    for i, txt in enumerate(words):\n",
    "        ax.annotate(txt, (points[i,0], points[i,1]))\n",
    "        \n",
    "    for i in range(0, len(points), 2):\n",
    "        ax.plot(points[i:(i+2),0], points[i:(i+2),1], 'ro--')\n",
    "    ax.tick_params(left = False, right = False , labelleft = False ,\n",
    "                labelbottom = False, bottom = False)\n",
    "    fig.savefig(path, dpi=300)"
   ]
  },
  {
   "cell_type": "code",
   "execution_count": 3,
   "metadata": {},
   "outputs": [
    {
     "name": "stderr",
     "output_type": "stream",
     "text": [
      "Warning : `load_model` does not return WordVectorModel or SupervisedModel any more, but a `FastText` object which is very similar.\n"
     ]
    }
   ],
   "source": [
    "# Chargement du modèle avec des vecteurs de taille 100\n",
    "ft = fasttext.load_model('fastText/cc.fr.300.bin')"
   ]
  },
  {
   "cell_type": "code",
   "execution_count": 61,
   "metadata": {},
   "outputs": [
    {
     "name": "stdout",
     "output_type": "stream",
     "text": [
      "Running Truncated SVD over 16 words...\n",
      "Done.\n"
     ]
    },
    {
     "data": {
      "image/png": "[encoded data removed]",
      "text/plain": [
       "<Figure size 432x288 with 1 Axes>"
      ]
     },
     "metadata": {},
     "output_type": "display_data"
    }
   ],
   "source": [
    "# Pays et capitales\n",
    "\n",
    "liste_de_mots = [\n",
    "    'France', 'Paris',\n",
    "    'Espagne', 'Madrid',\n",
    "    'Angleterre', 'Londres',\n",
    "    'Espagne', 'Madrid',\n",
    "    'Portugal', 'Lisbonne',\n",
    "    'Japon', 'Tokyo',\n",
    "    'Chine', 'Pékin',\n",
    "    'Russie', 'Moscou',\n",
    "                ]\n",
    "word2ind = dict(zip(liste_de_mots, [i for i in range(len(liste_de_mots))]))\n",
    "\n",
    "\n",
    "M = np.array([ft.get_word_vector(liste_de_mots[i]) for i in range(len(liste_de_mots))])\n",
    "    \n",
    "M_reduced = reduce_to_k_dim(M, k=2)\n",
    "plot_embeddings(M_reduced, word2ind, liste_de_mots, 'imgs/capitals.png')"
   ]
  },
  {
   "cell_type": "code",
   "execution_count": 91,
   "metadata": {},
   "outputs": [
    {
     "name": "stdout",
     "output_type": "stream",
     "text": [
      "Running Truncated SVD over 18 words...\n",
      "Done.\n"
     ]
    },
    {
     "data": {
      "image/png": "[encoded data removed]",
      "text/plain": [
       "<Figure size 432x288 with 1 Axes>"
      ]
     },
     "metadata": {},
     "output_type": "display_data"
    }
   ],
   "source": [
    "# féminin et masculin\n",
    "liste_de_mots = [\n",
    "    'chanteur', 'chanteuse',\n",
    "    'prince', 'princesse',\n",
    "    'directeur', 'directrice',\n",
    "    'sportif', 'sportive',\n",
    "    'employé', 'employée',\n",
    "    'musicien', 'musicienne',\n",
    "    'lui', 'elle',\n",
    "    'heureux', 'heureuse',\n",
    "    'roi', 'reine',\n",
    "                ]\n",
    "word2ind = dict(zip(liste_de_mots, [i for i in range(len(liste_de_mots))]))\n",
    "M = np.array([ft.get_word_vector(liste_de_mots[i]) for i in range(len(liste_de_mots))])\n",
    "M_reduced = reduce_to_k_dim(M, k=2)\n",
    "plot_embeddings(M_reduced, word2ind, liste_de_mots[:10], 'imgs/feminin_masculin.png')"
   ]
  },
  {
   "cell_type": "code",
   "execution_count": null,
   "metadata": {},
   "outputs": [],
   "source": []
  }
 ],
 "metadata": {
  "kernelspec": {
   "display_name": "Python 3 (ipykernel)",
   "language": "python",
   "name": "python3"
  },
  "language_info": {
   "codemirror_mode": {
    "name": "ipython",
    "version": 3
   },
   "file_extension": ".py",
   "mimetype": "text/x-python",
   "name": "python",
   "nbconvert_exporter": "python",
   "pygments_lexer": "ipython3",
   "version": "3.9.7"
  }
 },
 "nbformat": 4,
 "nbformat_minor": 4
}
