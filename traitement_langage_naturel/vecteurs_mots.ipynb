{
 "cells": [
  {
   "cell_type": "markdown",
   "metadata": {},
   "source": [
    "# Vecteurs de mot\n",
    "# 03/12/2021\n",
    "# @author : jeremylhour"
   ]
  },
  {
   "cell_type": "code",
   "execution_count": 74,
   "metadata": {},
   "outputs": [],
   "source": [
    "import numpy as np\n",
    "import matplotlib.pyplot as plt\n",
    "\n",
    "import fasttext.util\n",
    "from sklearn.decomposition import TruncatedSVD"
   ]
  },
  {
   "cell_type": "code",
   "execution_count": 75,
   "metadata": {},
   "outputs": [],
   "source": [
    "# Définition des fonctions utiles\n",
    "\n",
    "def reduce_to_k_dim(M, k=2):\n",
    "    \"\"\" Reduce a co-occurence count matrix of dimensionality (num_corpus_words, num_corpus_words)\n",
    "        to a matrix of dimensionality (num_corpus_words, k) using the following SVD function from Scikit-Learn:\n",
    "            - http://scikit-learn.org/stable/modules/generated/sklearn.decomposition.TruncatedSVD.html\n",
    "    \n",
    "        Params:\n",
    "            M (numpy matrix of shape (number of unique words in the corpus , number of unique words in the corpus)): co-occurence matrix of word counts\n",
    "            k (int): embedding size of each word after dimension reduction\n",
    "        Return:\n",
    "            M_reduced (numpy matrix of shape (number of corpus words, k)): matrix of k-dimensioal word embeddings.\n",
    "                    In terms of the SVD from math class, this actually returns U * S\n",
    "    \"\"\"    \n",
    "    print(f\"Running Truncated SVD over {len(M)} words...\")\n",
    "    svd = TruncatedSVD(n_components=2, n_iter=10, random_state=42)\n",
    "    svd.fit(M)\n",
    "    M_reduced = svd.transform(M)\n",
    "    print(\"Done.\")\n",
    "    return M_reduced\n",
    "\n",
    "def plot_embeddings(M_reduced, word2ind, words, path):\n",
    "    \"\"\" Plot in a scatterplot the embeddings of the words specified in the list \"words\".\n",
    "        NOTE: do not plot all the words listed in M_reduced / word2ind.\n",
    "        Include a label next to each point.\n",
    "        \n",
    "        Params:\n",
    "            M_reduced (numpy matrix of shape (number of unique words in the corpus , 2)): matrix of 2-dimensioal word embeddings\n",
    "            word2ind (dict): dictionary that maps word to indices for matrix M\n",
    "            words (list of strings): words whose embeddings we want to visualize\n",
    "            path (str): where to save\n",
    "    \"\"\"\n",
    "    points = M_reduced[[word2ind[word] for word in words],]\n",
    "    fig, ax = plt.subplots()\n",
    "    ax.scatter(points[:,0], points[:,1])\n",
    "\n",
    "    for i, txt in enumerate(words):\n",
    "        ax.annotate(txt, (points[i,0], points[i,1]))\n",
    "        \n",
    "    for i in range(0, len(points), 2):\n",
    "        ax.plot(points[i:(i+2),0], points[i:(i+2),1], 'ro--')\n",
    "    ax.tick_params(left = False, right = False , labelleft = False ,\n",
    "                labelbottom = False, bottom = False)\n",
    "    fig.savefig(path, dpi=300)"
   ]
  },
  {
   "cell_type": "code",
   "execution_count": 76,
   "metadata": {},
   "outputs": [
    {
     "name": "stderr",
     "output_type": "stream",
     "text": [
      "Warning : `load_model` does not return WordVectorModel or SupervisedModel any more, but a `FastText` object which is very similar.\n"
     ]
    }
   ],
   "source": [
    "# Chargement du modèle avec des vecteurs de taille 100\n",
    "ft = fasttext.load_model('fastText/cc.fr.300.bin')"
   ]
  },
  {
   "cell_type": "code",
   "execution_count": 77,
   "metadata": {},
   "outputs": [
    {
     "name": "stdout",
     "output_type": "stream",
     "text": [
      "Running Truncated SVD over 16 words...\n",
      "Done.\n"
     ]
    },
    {
     "data": {
      "image/png": "[encoded data removed]",
      "text/plain": [
       "<Figure size 432x288 with 1 Axes>"
      ]
     },
     "metadata": {},
     "output_type": "display_data"
    }
   ],
   "source": [
    "# Pays et capitales\n",
    "\n",
    "liste_de_mots = [\n",
    "    'France', 'Paris',\n",
    "    'Espagne', 'Madrid',\n",
    "    'Angleterre', 'Londres',\n",
    "    'Espagne', 'Madrid',\n",
    "    'Portugal', 'Lisbonne',\n",
    "    'Japon', 'Tokyo',\n",
    "    'Chine', 'Pékin',\n",
    "    'Russie', 'Moscou',\n",
    "                ]\n",
    "word2ind = dict(zip(liste_de_mots, [i for i in range(len(liste_de_mots))]))\n",
    "\n",
    "\n",
    "M = np.array([ft.get_word_vector(liste_de_mots[i]) for i in range(len(liste_de_mots))])\n",
    "    \n",
    "M_reduced = reduce_to_k_dim(M, k=2)\n",
    "plot_embeddings(M_reduced, word2ind, liste_de_mots, 'imgs/capitals.png')"
   ]
  },
  {
   "cell_type": "code",
   "execution_count": 10,
   "metadata": {},
   "outputs": [
    {
     "name": "stdout",
     "output_type": "stream",
     "text": [
      "Running Truncated SVD over 18 words...\n",
      "Done.\n"
     ]
    },
    {
     "data": {
      "image/png": "[encoded data removed]",
      "text/plain": [
       "<Figure size 432x288 with 1 Axes>"
      ]
     },
     "metadata": {},
     "output_type": "display_data"
    }
   ],
   "source": [
    "# féminin et masculin\n",
    "liste_de_mots = [\n",
    "    'chanteur', 'chanteuse',\n",
    "    'prince', 'princesse',\n",
    "    'directeur', 'directrice',\n",
    "    'sportif', 'sportive',\n",
    "    'employé', 'employée',\n",
    "    'musicien', 'musicienne',\n",
    "    'lui', 'elle',\n",
    "    'heureux', 'heureuse',\n",
    "    'roi', 'reine',\n",
    "                ]\n",
    "word2ind = dict(zip(liste_de_mots, [i for i in range(len(liste_de_mots))]))\n",
    "M = np.array([ft.get_word_vector(mot) for mot in liste_de_mots])\n",
    "M_reduced = reduce_to_k_dim(M, k=2)\n",
    "plot_embeddings(M_reduced, word2ind, liste_de_mots[:10], 'imgs/feminin_masculin.png')"
   ]
  },
  {
   "cell_type": "code",
   "execution_count": 103,
   "metadata": {},
   "outputs": [],
   "source": [
    "# Définition de la fonction pour projeter un vecteur sur p axes\n",
    "\n",
    "def projection(X, y):\n",
    "    \"\"\"\n",
    "    @param X (np.array): shape (n, p)\n",
    "    @param y (np.array): shape n\n",
    "    \"\"\"\n",
    "    \n",
    "    X_plus_intercept = np.c_[ np.ones(len(X)), X]\n",
    "    beta = np.linalg.inv(np.transpose(X_plus_intercept) @ X_plus_intercept) @ np.transpose(X_plus_intercept) @ y\n",
    "    return beta[1:].tolist()\n",
    "\n",
    "def _L2norm(vec):\n",
    "    \"\"\"\n",
    "    _L2norm:\n",
    "        computes L2 norm for vector or each rows of matrix\n",
    "        \n",
    "    @param vec (np.array): np.array of shape  (n_dim) or (n_vectors, n_dim) \n",
    "    \"\"\"\n",
    "    if vec.ndim == 1:\n",
    "        return np.sqrt(np.sum(vec**2))\n",
    "    else:\n",
    "        return np.sqrt(np.sum(vec**2, axis=1))\n",
    "    \n",
    "def _cosineSimilarity(target_vec, vectors):\n",
    "    \"\"\"\n",
    "    _cosineSimilarity:\n",
    "        computes cosine similarity between the target_vec and all other vectors in vectors\n",
    "        \n",
    "    @param target_vec (np.array): vector of shape n_dim\n",
    "    @param vectors (np.array): np.array of shape (n_vectors, n_dim) \n",
    "    \"\"\"\n",
    "    metric = vectors @ target_vec / (_L2norm(vectors) * _L2norm(target_vec))\n",
    "    return metric.tolist()\n",
    "\n",
    "def plot_on_axes(model, X, words, path, mode='cosine'):\n",
    "    \"\"\" Plot in a scatterplot the embeddings of the words specified in the list \"words\".\n",
    "        NOTE: do not plot all the words listed in M_reduced / word2ind.\n",
    "        Include a label next to each point.\n",
    "        \n",
    "        Params:\n",
    "            model (fastText model):\n",
    "            X (np.array): where to project\n",
    "            words (list of strings): words whose embeddings we want to visualize\n",
    "            path (str): where to save\n",
    "    \"\"\"\n",
    "    if mode=='cosine':\n",
    "        points = np.array([_cosineSimilarity(model.get_word_vector(mot), np.transpose(X)) for mot in words])\n",
    "    else:\n",
    "        points = np.array([projection(X, model.get_word_vector(mot)) for mot in words])\n",
    "        \n",
    "    fig, ax = plt.subplots()\n",
    "    ax.axhline(y=0, color='b', linestyle='--')\n",
    "    ax.axvline(x=0, color='b', linestyle='--')\n",
    "    ax.scatter(points[:,0], points[:,1])\n",
    "\n",
    "    for i, txt in enumerate(words):\n",
    "        ax.annotate(txt, (points[i,0], points[i,1]))\n",
    "        \n",
    "    ax.tick_params(left=False, right=False, labelleft=False, labelbottom=False, bottom=False)\n",
    "    fig.savefig(path, dpi=300)"
   ]
  },
  {
   "cell_type": "code",
   "execution_count": 104,
   "metadata": {},
   "outputs": [],
   "source": [
    "# Definition des axes de genres et de classe sociale\n",
    "liste_genre = [\n",
    "    'homme', 'femme',\n",
    "    'hommes', 'femmes',\n",
    "    'garçon', 'fille',\n",
    "    'garçons', 'filles',\n",
    "    'lui', 'elle',\n",
    "    'il', 'elle',\n",
    "    'masculin', 'féminin',\n",
    "    'mâle', 'femelle'\n",
    "]\n",
    "\n",
    "axe_genre = 0\n",
    "sign = 1\n",
    "for mot in liste_genre:\n",
    "    axe_genre += ft.get_word_vector(mot)*sign\n",
    "    sign *= -1\n",
    "\n",
    "liste_classe_sociale = [\n",
    "    'riche', 'pauvre',\n",
    "    'richesse', 'pauvreté',\n",
    "    'luxe', 'dénuement',\n",
    "    'cher', 'bon marché',\n",
    "    'abondance', 'manque',\n",
    "    'opulence', 'besoin',\n",
    "    'prospérité', 'misère'\n",
    "]\n",
    "\n",
    "axe_classe = 0\n",
    "sign = 1\n",
    "for mot in liste_classe_sociale:\n",
    "    axe_classe += ft.get_word_vector(mot)*sign\n",
    "    sign *= -1\n",
    "\n"
   ]
  },
  {
   "cell_type": "code",
   "execution_count": 105,
   "metadata": {},
   "outputs": [
    {
     "data": {
      "image/png": "[encoded data removed]",
      "text/plain": [
       "<Figure size 432x288 with 1 Axes>"
      ]
     },
     "metadata": {},
     "output_type": "display_data"
    }
   ],
   "source": [
    "liste_activites = [\n",
    "    'football', 'rugby',\n",
    "    'boxe', 'danse', 'yoga',\n",
    "    'golf', 'équitation', 'couture',\n",
    "    'tennis', 'opéra',\n",
    "    'musée', 'cuisine', 'bricolage',\n",
    "    'brunch', 'beauté', 'rolex',\n",
    "    'ouvrier', 'infirmière', 'sans-abris'\n",
    "]\n",
    "\n",
    "X = np.c_[axe_genre, axe_classe]\n",
    "plot_on_axes(ft, np.c_[axe_genre, axe_classe], liste_activites, 'imgs/projections.png')"
   ]
  },
  {
   "cell_type": "code",
   "execution_count": null,
   "metadata": {},
   "outputs": [],
   "source": []
  }
 ],
 "metadata": {
  "kernelspec": {
   "display_name": "Python 3 (ipykernel)",
   "language": "python",
   "name": "python3"
  },
  "language_info": {
   "codemirror_mode": {
    "name": "ipython",
    "version": 3
   },
   "file_extension": ".py",
   "mimetype": "text/x-python",
   "name": "python",
   "nbconvert_exporter": "python",
   "pygments_lexer": "ipython3",
   "version": "3.9.7"
  }
 },
 "nbformat": 4,
 "nbformat_minor": 4
}
