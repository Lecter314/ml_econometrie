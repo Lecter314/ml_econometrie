{
 "cells": [
  {
   "cell_type": "markdown",
   "metadata": {},
   "source": [
    "# Contrôle synthétique\n",
    "# 15 juillet 2021\n",
    "# @author : jeremylhour\n",
    "\n",
    "NB : avant de lancer ce code, lancer le script \"synth_setup.sh\" qui permet de télécharger les données de consommation de tabac aux US, et les placer à la racine dans data/MLAB_data.txt"
   ]
  },
  {
   "cell_type": "code",
   "execution_count": null,
   "metadata": {
    "vscode": {
     "languageId": "r"
    }
   },
   "outputs": [],
   "source": [
    "! source synth_setup.sh"
   ]
  },
  {
   "cell_type": "code",
   "execution_count": null,
   "metadata": {
    "vscode": {
     "languageId": "r"
    }
   },
   "outputs": [
    {
     "name": "stderr",
     "output_type": "stream",
     "text": [
      "Loading required package: Synth\n",
      "\n",
      "##\n",
      "## Synth Package: Implements Synthetic Control Methods.\n",
      "\n",
      "\n",
      "## See http://www.mit.edu/~jhainm/software.htm for additional information.\n",
      "\n",
      "\n",
      "\n"
     ]
    },
    {
     "data": {
      "text/html": [
       "<ol>\n",
       "\t<li>TRUE</li>\n",
       "</ol>\n"
      ],
      "text/latex": [
       "\\begin{enumerate}\n",
       "\\item TRUE\n",
       "\\end{enumerate}\n"
      ],
      "text/markdown": [
       "1. TRUE\n",
       "\n",
       "\n"
      ],
      "text/plain": [
       "[[1]]\n",
       "[1] TRUE\n"
      ]
     },
     "metadata": {},
     "output_type": "display_data"
    }
   ],
   "source": [
    "rm(list=ls())\n",
    "\n",
    "packageList = c('Synth')\n",
    "#for(pack in packageList) install.packages(pack)\n",
    "lapply(packageList, require, character.only = TRUE)"
   ]
  },
  {
   "cell_type": "markdown",
   "metadata": {},
   "source": [
    "# 1. MISE EN FORME DES DONNEES"
   ]
  },
  {
   "cell_type": "code",
   "execution_count": null,
   "metadata": {
    "vscode": {
     "languageId": "r"
    }
   },
   "outputs": [
    {
     "name": "stdout",
     "output_type": "stream",
     "text": [
      "[1] \"================================================================================\"\n",
      "[1] \"MISE EN FORME DES DONNEES\"\n",
      "[1] \"================================================================================\"\n"
     ]
    },
    {
     "data": {
      "text/html": [
       "<table>\n",
       "<caption>A data.frame: 6 × 40</caption>\n",
       "<thead>\n",
       "\t<tr><th></th><th scope=col>State_ID</th><th scope=col>Income</th><th scope=col>RetailPrice</th><th scope=col>Young</th><th scope=col>BeerCons</th><th scope=col>Smoking1988</th><th scope=col>Smoking1980</th><th scope=col>Smoking1975</th><th scope=col>SmokingCons1970</th><th scope=col>SmokingCons1971</th><th scope=col>⋯</th><th scope=col>SmokingCons1992</th><th scope=col>SmokingCons1993</th><th scope=col>SmokingCons1994</th><th scope=col>SmokingCons1995</th><th scope=col>SmokingCons1996</th><th scope=col>SmokingCons1997</th><th scope=col>SmokingCons1998</th><th scope=col>SmokingCons1999</th><th scope=col>SmokingCons2000</th><th scope=col>Treated</th></tr>\n",
       "\t<tr><th></th><th scope=col>&lt;dbl&gt;</th><th scope=col>&lt;dbl&gt;</th><th scope=col>&lt;dbl&gt;</th><th scope=col>&lt;dbl&gt;</th><th scope=col>&lt;dbl&gt;</th><th scope=col>&lt;dbl&gt;</th><th scope=col>&lt;dbl&gt;</th><th scope=col>&lt;dbl&gt;</th><th scope=col>&lt;dbl&gt;</th><th scope=col>&lt;dbl&gt;</th><th scope=col>⋯</th><th scope=col>&lt;dbl&gt;</th><th scope=col>&lt;dbl&gt;</th><th scope=col>&lt;dbl&gt;</th><th scope=col>&lt;dbl&gt;</th><th scope=col>&lt;dbl&gt;</th><th scope=col>&lt;dbl&gt;</th><th scope=col>&lt;dbl&gt;</th><th scope=col>&lt;dbl&gt;</th><th scope=col>&lt;dbl&gt;</th><th scope=col>&lt;dbl&gt;</th></tr>\n",
       "</thead>\n",
       "<tbody>\n",
       "\t<tr><th scope=row>Alabama</th><td>1</td><td> 9.678974</td><td> 89.34445</td><td>0.1748019</td><td>18.96</td><td>112.1</td><td>123.2</td><td>111.7</td><td> 89.8</td><td> 95.4</td><td>⋯</td><td>109.1</td><td>108.5</td><td>107.1</td><td>102.6</td><td>101.4</td><td>104.9</td><td>106.2</td><td>100.7</td><td> 96.2</td><td>0</td></tr>\n",
       "\t<tr><th scope=row>Arkansas</th><td>2</td><td> 9.643623</td><td> 89.87778</td><td>0.1646114</td><td>18.52</td><td>121.5</td><td>131.8</td><td>114.8</td><td>100.3</td><td>104.1</td><td>⋯</td><td>126.0</td><td>113.8</td><td>108.8</td><td>113.0</td><td>110.7</td><td>108.7</td><td>109.5</td><td>104.8</td><td> 99.4</td><td>0</td></tr>\n",
       "\t<tr><th scope=row>Colorado</th><td>4</td><td> 9.984357</td><td> 82.62222</td><td>0.1737032</td><td>25.08</td><td> 94.6</td><td>131.0</td><td>131.0</td><td>124.8</td><td>125.5</td><td>⋯</td><td> 88.3</td><td> 88.6</td><td> 89.1</td><td> 85.4</td><td> 83.1</td><td> 81.3</td><td> 81.2</td><td> 79.6</td><td> 73.0</td><td>0</td></tr>\n",
       "\t<tr><th scope=row>Connecticut</th><td>5</td><td>10.188035</td><td>103.47778</td><td>0.1636597</td><td>20.70</td><td>104.8</td><td>118.0</td><td>110.2</td><td>120.0</td><td>117.6</td><td>⋯</td><td> 83.5</td><td> 79.1</td><td> 76.6</td><td> 79.3</td><td> 76.0</td><td> 75.9</td><td> 75.5</td><td> 73.4</td><td> 71.4</td><td>0</td></tr>\n",
       "\t<tr><th scope=row>Delaware</th><td>6</td><td> 9.974561</td><td> 90.05556</td><td>0.1782245</td><td>26.08</td><td>137.1</td><td>150.5</td><td>147.6</td><td>155.0</td><td>161.1</td><td>⋯</td><td>120.0</td><td>123.8</td><td>126.1</td><td>127.2</td><td>128.3</td><td>124.1</td><td>132.8</td><td>139.5</td><td>140.7</td><td>0</td></tr>\n",
       "\t<tr><th scope=row>Georgia</th><td>7</td><td> 9.817172</td><td> 84.36667</td><td>0.1769441</td><td>21.76</td><td>124.1</td><td>134.0</td><td>122.9</td><td>109.9</td><td>115.7</td><td>⋯</td><td>109.2</td><td>109.2</td><td>107.8</td><td>100.3</td><td>102.7</td><td>100.6</td><td>100.5</td><td> 97.1</td><td> 88.4</td><td>0</td></tr>\n",
       "</tbody>\n",
       "</table>\n"
      ],
      "text/latex": [
       "A data.frame: 6 × 40\n",
       "\\begin{tabular}{r|lllllllllllllllllllll}\n",
       "  & State\\_ID & Income & RetailPrice & Young & BeerCons & Smoking1988 & Smoking1980 & Smoking1975 & SmokingCons1970 & SmokingCons1971 & ⋯ & SmokingCons1992 & SmokingCons1993 & SmokingCons1994 & SmokingCons1995 & SmokingCons1996 & SmokingCons1997 & SmokingCons1998 & SmokingCons1999 & SmokingCons2000 & Treated\\\\\n",
       "  & <dbl> & <dbl> & <dbl> & <dbl> & <dbl> & <dbl> & <dbl> & <dbl> & <dbl> & <dbl> & ⋯ & <dbl> & <dbl> & <dbl> & <dbl> & <dbl> & <dbl> & <dbl> & <dbl> & <dbl> & <dbl>\\\\\n",
       "\\hline\n",
       "\tAlabama & 1 &  9.678974 &  89.34445 & 0.1748019 & 18.96 & 112.1 & 123.2 & 111.7 &  89.8 &  95.4 & ⋯ & 109.1 & 108.5 & 107.1 & 102.6 & 101.4 & 104.9 & 106.2 & 100.7 &  96.2 & 0\\\\\n",
       "\tArkansas & 2 &  9.643623 &  89.87778 & 0.1646114 & 18.52 & 121.5 & 131.8 & 114.8 & 100.3 & 104.1 & ⋯ & 126.0 & 113.8 & 108.8 & 113.0 & 110.7 & 108.7 & 109.5 & 104.8 &  99.4 & 0\\\\\n",
       "\tColorado & 4 &  9.984357 &  82.62222 & 0.1737032 & 25.08 &  94.6 & 131.0 & 131.0 & 124.8 & 125.5 & ⋯ &  88.3 &  88.6 &  89.1 &  85.4 &  83.1 &  81.3 &  81.2 &  79.6 &  73.0 & 0\\\\\n",
       "\tConnecticut & 5 & 10.188035 & 103.47778 & 0.1636597 & 20.70 & 104.8 & 118.0 & 110.2 & 120.0 & 117.6 & ⋯ &  83.5 &  79.1 &  76.6 &  79.3 &  76.0 &  75.9 &  75.5 &  73.4 &  71.4 & 0\\\\\n",
       "\tDelaware & 6 &  9.974561 &  90.05556 & 0.1782245 & 26.08 & 137.1 & 150.5 & 147.6 & 155.0 & 161.1 & ⋯ & 120.0 & 123.8 & 126.1 & 127.2 & 128.3 & 124.1 & 132.8 & 139.5 & 140.7 & 0\\\\\n",
       "\tGeorgia & 7 &  9.817172 &  84.36667 & 0.1769441 & 21.76 & 124.1 & 134.0 & 122.9 & 109.9 & 115.7 & ⋯ & 109.2 & 109.2 & 107.8 & 100.3 & 102.7 & 100.6 & 100.5 &  97.1 &  88.4 & 0\\\\\n",
       "\\end{tabular}\n"
      ],
      "text/markdown": [
       "\n",
       "A data.frame: 6 × 40\n",
       "\n",
       "| <!--/--> | State_ID &lt;dbl&gt; | Income &lt;dbl&gt; | RetailPrice &lt;dbl&gt; | Young &lt;dbl&gt; | BeerCons &lt;dbl&gt; | Smoking1988 &lt;dbl&gt; | Smoking1980 &lt;dbl&gt; | Smoking1975 &lt;dbl&gt; | SmokingCons1970 &lt;dbl&gt; | SmokingCons1971 &lt;dbl&gt; | ⋯ ⋯ | SmokingCons1992 &lt;dbl&gt; | SmokingCons1993 &lt;dbl&gt; | SmokingCons1994 &lt;dbl&gt; | SmokingCons1995 &lt;dbl&gt; | SmokingCons1996 &lt;dbl&gt; | SmokingCons1997 &lt;dbl&gt; | SmokingCons1998 &lt;dbl&gt; | SmokingCons1999 &lt;dbl&gt; | SmokingCons2000 &lt;dbl&gt; | Treated &lt;dbl&gt; |\n",
       "|---|---|---|---|---|---|---|---|---|---|---|---|---|---|---|---|---|---|---|---|---|---|\n",
       "| Alabama | 1 |  9.678974 |  89.34445 | 0.1748019 | 18.96 | 112.1 | 123.2 | 111.7 |  89.8 |  95.4 | ⋯ | 109.1 | 108.5 | 107.1 | 102.6 | 101.4 | 104.9 | 106.2 | 100.7 |  96.2 | 0 |\n",
       "| Arkansas | 2 |  9.643623 |  89.87778 | 0.1646114 | 18.52 | 121.5 | 131.8 | 114.8 | 100.3 | 104.1 | ⋯ | 126.0 | 113.8 | 108.8 | 113.0 | 110.7 | 108.7 | 109.5 | 104.8 |  99.4 | 0 |\n",
       "| Colorado | 4 |  9.984357 |  82.62222 | 0.1737032 | 25.08 |  94.6 | 131.0 | 131.0 | 124.8 | 125.5 | ⋯ |  88.3 |  88.6 |  89.1 |  85.4 |  83.1 |  81.3 |  81.2 |  79.6 |  73.0 | 0 |\n",
       "| Connecticut | 5 | 10.188035 | 103.47778 | 0.1636597 | 20.70 | 104.8 | 118.0 | 110.2 | 120.0 | 117.6 | ⋯ |  83.5 |  79.1 |  76.6 |  79.3 |  76.0 |  75.9 |  75.5 |  73.4 |  71.4 | 0 |\n",
       "| Delaware | 6 |  9.974561 |  90.05556 | 0.1782245 | 26.08 | 137.1 | 150.5 | 147.6 | 155.0 | 161.1 | ⋯ | 120.0 | 123.8 | 126.1 | 127.2 | 128.3 | 124.1 | 132.8 | 139.5 | 140.7 | 0 |\n",
       "| Georgia | 7 |  9.817172 |  84.36667 | 0.1769441 | 21.76 | 124.1 | 134.0 | 122.9 | 109.9 | 115.7 | ⋯ | 109.2 | 109.2 | 107.8 | 100.3 | 102.7 | 100.6 | 100.5 |  97.1 |  88.4 | 0 |\n",
       "\n"
      ],
      "text/plain": [
       "            State_ID Income    RetailPrice Young     BeerCons Smoking1988\n",
       "Alabama     1         9.678974  89.34445   0.1748019 18.96    112.1      \n",
       "Arkansas    2         9.643623  89.87778   0.1646114 18.52    121.5      \n",
       "Colorado    4         9.984357  82.62222   0.1737032 25.08     94.6      \n",
       "Connecticut 5        10.188035 103.47778   0.1636597 20.70    104.8      \n",
       "Delaware    6         9.974561  90.05556   0.1782245 26.08    137.1      \n",
       "Georgia     7         9.817172  84.36667   0.1769441 21.76    124.1      \n",
       "            Smoking1980 Smoking1975 SmokingCons1970 SmokingCons1971 ⋯\n",
       "Alabama     123.2       111.7        89.8            95.4           ⋯\n",
       "Arkansas    131.8       114.8       100.3           104.1           ⋯\n",
       "Colorado    131.0       131.0       124.8           125.5           ⋯\n",
       "Connecticut 118.0       110.2       120.0           117.6           ⋯\n",
       "Delaware    150.5       147.6       155.0           161.1           ⋯\n",
       "Georgia     134.0       122.9       109.9           115.7           ⋯\n",
       "            SmokingCons1992 SmokingCons1993 SmokingCons1994 SmokingCons1995\n",
       "Alabama     109.1           108.5           107.1           102.6          \n",
       "Arkansas    126.0           113.8           108.8           113.0          \n",
       "Colorado     88.3            88.6            89.1            85.4          \n",
       "Connecticut  83.5            79.1            76.6            79.3          \n",
       "Delaware    120.0           123.8           126.1           127.2          \n",
       "Georgia     109.2           109.2           107.8           100.3          \n",
       "            SmokingCons1996 SmokingCons1997 SmokingCons1998 SmokingCons1999\n",
       "Alabama     101.4           104.9           106.2           100.7          \n",
       "Arkansas    110.7           108.7           109.5           104.8          \n",
       "Colorado     83.1            81.3            81.2            79.6          \n",
       "Connecticut  76.0            75.9            75.5            73.4          \n",
       "Delaware    128.3           124.1           132.8           139.5          \n",
       "Georgia     102.7           100.6           100.5            97.1          \n",
       "            SmokingCons2000 Treated\n",
       "Alabama      96.2           0      \n",
       "Arkansas     99.4           0      \n",
       "Colorado     73.0           0      \n",
       "Connecticut  71.4           0      \n",
       "Delaware    140.7           0      \n",
       "Georgia      88.4           0      "
      ]
     },
     "metadata": {},
     "output_type": "display_data"
    }
   ],
   "source": [
    "DATA_PATH = '../data/MLAB_data.txt'\n",
    "\n",
    "data = data.frame(t(read.table(DATA_PATH)))\n",
    "\n",
    "smokeNames = mapply(function(x) paste(\"SmokingCons\", x, sep=\"\"), 1970:2000) # noms de variables pour la conso de tabac\n",
    "                    \n",
    "names = c(\"State_ID\",\n",
    "          \"Income\",\n",
    "          \"RetailPrice\",\n",
    "          \"Young\",\n",
    "          \"BeerCons\",\n",
    "          \"Smoking1988\",\n",
    "          \"Smoking1980\",\n",
    "          \"Smoking1975\",\n",
    "           smokeNames)\n",
    "colnames(data) = names\n",
    "\n",
    "stateNames = c('Alabama', 'Arkansas','Colorado','Connecticut','Delaware',\n",
    "               'Georgia',  'Idaho',  'Illinois',  'Indiana', 'Iowa', 'Kansas',\n",
    "               'Kentucky', 'Louisiana', 'Maine', 'Minnesota', 'Mississippi',\n",
    "               'Missouri', 'Montana', 'Nebraska', 'Nevada', 'New Hampshire',\n",
    "               'New Mexico', 'North Carolina', 'North Dakota', 'Ohio', 'Oklahoma',\n",
    "               'Pennsylvania', 'Rhode Island', 'South Carolina', 'South Dakota',\n",
    "               'Tennessee', 'Texas', 'Utah', 'Vermont', 'Virginia' , 'West Virginia',\n",
    "               'Wisconsin', 'Wyoming', 'California')\n",
    "rownames(data) = stateNames\n",
    "data[, \"Treated\"] = as.numeric(data[,\"State_ID\"]==3) # la Californie est l'Etat avec ID=3\n",
    "                  \n",
    "head(data)"
   ]
  },
  {
   "cell_type": "markdown",
   "metadata": {},
   "source": [
    "# 1. FIGURE 10.3"
   ]
  },
  {
   "cell_type": "code",
   "execution_count": null,
   "metadata": {
    "vscode": {
     "languageId": "r"
    }
   },
   "outputs": [
    {
     "name": "stdout",
     "output_type": "stream",
     "text": [
      "[1] \"================================================================================\"\n",
      "[1] \"REPRODUCTION DE LA FIGURE 1\"\n",
      "[1] \"================================================================================\"\n"
     ]
    },
    {
     "data": {
      "image/png": "[encoded data removed]",
      "text/plain": [
       "plot without title"
      ]
     },
     "metadata": {
      "image/png": {
       "height": 420,
       "width": 420
      },
      "text/plain": {
       "height": 420,
       "width": 420
      }
     },
     "output_type": "display_data"
    }
   ],
   "source": [
    "plotdata = ts(cbind(unlist(data[data[,\"Treated\"]==1, smokeNames]),\n",
    "                    unlist(apply(data[data[,\"Treated\"]==0, smokeNames], 2, mean))),start=c(1970), freq=1)\n",
    "\n",
    "plot(plotdata, plot.type=\"single\",\n",
    "     col=c(\"steelblue\",\"firebrick\"), lwd=2,\n",
    "     lty=c(1, 6),xlab=\"\", ylab=\"Consommation de tabac (paquets / tête)\",\n",
    "     ylim=c(35,150))\n",
    "lim <- par(\"usr\")\n",
    "rect(1988, lim[3], lim[2], lim[4], col = rgb(0.5,0.5,0.5,1/4))\n",
    "axis(1) ## add axes back\n",
    "axis(2)\n",
    "box() \n",
    "legend(1971,80,\n",
    "       legend=c(\"Californie\", \"Autres Etats\"),\n",
    "       col=c(\"steelblue\",\"firebrick\"), lwd=2,\n",
    "       lty=c(1,6))"
   ]
  },
  {
   "cell_type": "markdown",
   "metadata": {},
   "source": [
    "On peut constater que la consommation de tabac par tête en Californie est bien inférieure à la moyenne des autres Etats, et tend à diminue plus rapidement. Il n'y a clairement pas de tendance commune."
   ]
  },
  {
   "cell_type": "code",
   "execution_count": null,
   "metadata": {
    "vscode": {
     "languageId": "r"
    }
   },
   "outputs": [
    {
     "data": {
      "text/html": [
       "<strong>png:</strong> 2"
      ],
      "text/latex": [
       "\\textbf{png:} 2"
      ],
      "text/markdown": [
       "**png:** 2"
      ],
      "text/plain": [
       "png \n",
       "  2 "
      ]
     },
     "metadata": {},
     "output_type": "display_data"
    }
   ],
   "source": [
    "# SAUVEGARDE\n",
    "jpeg(\"Tobacco_Fig_1.jpg\",res=150, width = 1000, height = 1000)\n",
    "plot(plotdata, plot.type=\"single\",\n",
    "     col=c(\"steelblue\",\"firebrick\"), lwd=2,\n",
    "     lty=c(1, 6),xlab=\"\", ylab=\"Consommation de tabac (paquets / tête)\",\n",
    "     ylim=c(35,150))\n",
    "lim <- par(\"usr\")\n",
    "rect(1988, lim[3], lim[2], lim[4], col = rgb(0.5,0.5,0.5,1/4))\n",
    "axis(1) ## add axes back\n",
    "axis(2)\n",
    "box() \n",
    "legend(1971,80,\n",
    "       legend=c(\"Californie\", \"Autres Etats\"),\n",
    "       col=c(\"steelblue\",\"firebrick\"), lwd=2,\n",
    "       lty=c(1,6))\n",
    "dev.off()"
   ]
  },
  {
   "cell_type": "markdown",
   "metadata": {},
   "source": [
    "# 2. ESTIMATION -- CALCUL DU CONTROLE SYNTHETIQUE"
   ]
  },
  {
   "cell_type": "code",
   "execution_count": null,
   "metadata": {
    "vscode": {
     "languageId": "r"
    }
   },
   "outputs": [
    {
     "name": "stdout",
     "output_type": "stream",
     "text": [
      "[1] \"================================================================================\"\n",
      "[1] \"CALCUL DES POIDS\"\n",
      "[1] \"================================================================================\"\n",
      "X1,X0,Z1,Z0 were individually input (not dataprep object.)\n",
      "\n",
      "\n",
      "**************** \n",
      " searching for synthetic control unit  \n",
      " \n",
      "                      p1        p2        p3          p4        p5          p6\n",
      "Nelder-Mead -0.002084832 0.1394833 0.3560638 -0.01424623 0.2791152 -0.02033223\n",
      "                   p7    value fevals gevals niter convcode kkt1 kkt2  xtime\n",
      "Nelder-Mead 0.1714994 4.412518    502     NA    NA        1   NA   NA 26.723\n",
      "                      p1         p2           p3          p4         p5\n",
      "Nelder-Mead 0.0006542238 0.03495713 -0.003775559 -0.01394098 0.07644841\n",
      "                   p6       p7    value fevals gevals niter convcode kkt1 kkt2\n",
      "Nelder-Mead 0.4392839 0.552291 3.209078    502     NA    NA        1   NA   NA\n",
      "             xtime\n",
      "Nelder-Mead 32.348\n",
      "\n",
      " Equal weight loss is: 4.412518 \n",
      "\n",
      " Regression Loss is: 3.209078 \n",
      "\n",
      "**************** \n",
      "**************** \n",
      "**************** \n",
      "\n",
      "MSPE (LOSS V): 3.209078 \n",
      "\n",
      "solution.v:\n",
      " 0.0005834245 0.03117412 0.003366973 0.01243231 0.06817527 0.3917451 0.4925228 \n",
      "\n",
      "solution.w:\n",
      " 1.54275e-05 1.27942e-05 0.1746846 0.06241991 1.58974e-05 1.6702e-05 0.0005198326 5.2369e-05 1.70181e-05 3.50418e-05 3.29133e-05 6.2085e-06 1.28701e-05 1.56504e-05 0.0003307645 1.35409e-05 1.89209e-05 0.1819706 0.0001088185 0.2357516 4.9e-09 0.0003359042 8.077e-06 7.8716e-06 2.06963e-05 9.3329e-06 3.91288e-05 1.56474e-05 1.55553e-05 3.18604e-05 1.51673e-05 2.354e-07 0.3432236 1.1756e-05 2.24389e-05 1.89056e-05 0.0001492861 2.30256e-05 \n",
      "\n",
      "[1] \"================================================================================\"\n",
      "[1] \"AFFICHAGE DES POIDS DE CHAQUE ETAT\"\n",
      "[1] \"================================================================================\"\n",
      "               w.weight\n",
      "Alabama           0.000\n",
      "Arkansas          0.000\n",
      "Colorado          0.175\n",
      "Connecticut       0.062\n",
      "Delaware          0.000\n",
      "Georgia           0.000\n",
      "Idaho             0.001\n",
      "Illinois          0.000\n",
      "Indiana           0.000\n",
      "Iowa              0.000\n",
      "Kansas            0.000\n",
      "Kentucky          0.000\n",
      "Louisiana         0.000\n",
      "Maine             0.000\n",
      "Minnesota         0.000\n",
      "Mississippi       0.000\n",
      "Missouri          0.000\n",
      "Montana           0.182\n",
      "Nebraska          0.000\n",
      "Nevada            0.236\n",
      "New Hampshire     0.000\n",
      "New Mexico        0.000\n",
      "North Carolina    0.000\n",
      "North Dakota      0.000\n",
      "Ohio              0.000\n",
      "Oklahoma          0.000\n",
      "Pennsylvania      0.000\n",
      "Rhode Island      0.000\n",
      "South Carolina    0.000\n",
      "South Dakota      0.000\n",
      "Tennessee         0.000\n",
      "Texas             0.000\n",
      "Utah              0.343\n",
      "Vermont           0.000\n",
      "Virginia          0.000\n",
      "West Virginia     0.000\n",
      "Wisconsin         0.000\n",
      "Wyoming           0.000\n"
     ]
    }
   ],
   "source": [
    "X1 = t(data[data[,\"Treated\"]==1, c(\"Income\", \"RetailPrice\", \"Young\", \"BeerCons\", \"Smoking1988\",\"Smoking1980\",\"Smoking1975\")])\n",
    "X0 = t(data[data[,\"Treated\"]==0, c(\"Income\", \"RetailPrice\", \"Young\", \"BeerCons\", \"Smoking1988\",\"Smoking1980\",\"Smoking1975\")])\n",
    "\n",
    "Z1 = t(data[data[,\"Treated\"]==1, mapply(function(x) paste(\"SmokingCons\", x, sep=\"\"), 1970:1988)])\n",
    "Z0 = t(data[data[,\"Treated\"]==0, mapply(function(x) paste(\"SmokingCons\", x, sep=\"\"), 1970:1988)])\n",
    "\n",
    "solution = synth(X1=X1,\n",
    "                 X0=X0,\n",
    "                 Z0=Z0,\n",
    "                 Z1=Z1,\n",
    "                 custom.v = NULL,\n",
    "                 optimxmethod = \"Nelder-Mead\",\n",
    "                 verbose=TRUE)       \n",
    "                                 \n",
    "W = solution$solution.w\n",
    "print(round(W, 3))\n",
    "                                        \n",
    "V_sol = solution$solution.v"
   ]
  },
  {
   "cell_type": "markdown",
   "metadata": {},
   "source": [
    "On peut constater qu'aux erreurs numériques près, on reproduit bien les résultats d'Abadie et al. (2010)."
   ]
  },
  {
   "cell_type": "markdown",
   "metadata": {},
   "source": [
    "# 3. ESTIMATION -- ANALYSE DES RESULTATS -- Tableau 10.2 et figure 10.4"
   ]
  },
  {
   "cell_type": "code",
   "execution_count": null,
   "metadata": {
    "vscode": {
     "languageId": "r"
    }
   },
   "outputs": [
    {
     "name": "stdout",
     "output_type": "stream",
     "text": [
      "[1] \"================================================================================\"\n",
      "[1] \"TABLEAU DE DISTANCE D'APPARIEMMENT\"\n",
      "[1] \"================================================================================\"\n",
      "            Californie observée Californie synthétique\n",
      "Income                     10.1                    9.9\n",
      "RetailPrice                89.4                   89.3\n",
      "Young                       0.2                    0.2\n",
      "BeerCons                   24.3                   24.1\n",
      "Smoking1988                90.1                   91.4\n",
      "Smoking1980               120.2                  120.2\n",
      "Smoking1975               127.1                  126.9\n",
      "            Moyenne des 38 autres Etats\n",
      "Income                              9.8\n",
      "RetailPrice                        87.3\n",
      "Young                               0.2\n",
      "BeerCons                           23.7\n",
      "Smoking1988                       113.8\n",
      "Smoking1980                       138.1\n",
      "Smoking1975                       136.9\n"
     ]
    }
   ],
   "source": [
    "tableau1 = round(cbind(X1, X0%*%W ,apply(X0, 1, mean)), 1)\n",
    "colnames(tableau1) = c(\"Californie observée\", \"Californie synthétique\", \"Moyenne des 38 autres Etats\")\n",
    "print(tableau1)\n",
    "\n",
    "write.table(tableau1, \"tableau1.txt\", append = FALSE, quote = FALSE, sep = \" & \",\n",
    "            eol = paste(\" \\\\\\\\ \\n\"), na = \"--\", dec = \".\", row.names = T,\n",
    "            col.names = T)"
   ]
  },
  {
   "cell_type": "markdown",
   "metadata": {},
   "source": [
    "On reproduit également les résultats de la Table 1. On constate que la Californie synthétique offre un bien meilleur contrefactuel que la moyenne simple des autres Etats."
   ]
  },
  {
   "cell_type": "code",
   "execution_count": null,
   "metadata": {
    "vscode": {
     "languageId": "r"
    }
   },
   "outputs": [
    {
     "name": "stdout",
     "output_type": "stream",
     "text": [
      "[1] \"================================================================================\"\n",
      "[1] \"REPRODUCTION DES FIGURES 2 ET 3\"\n",
      "[1] \"================================================================================\"\n"
     ]
    },
    {
     "data": {
      "image/png": "[encoded data removed]",
      "text/plain": [
       "plot without title"
      ]
     },
     "metadata": {
      "image/png": {
       "height": 420,
       "width": 420
      },
      "text/plain": {
       "height": 420,
       "width": 420
      }
     },
     "output_type": "display_data"
    },
    {
     "data": {
      "image/png": "[encoded data removed]",
      "text/plain": [
       "plot without title"
      ]
     },
     "metadata": {
      "image/png": {
       "height": 420,
       "width": 420
      },
      "text/plain": {
       "height": 420,
       "width": 420
      }
     },
     "output_type": "display_data"
    }
   ],
   "source": [
    "print(paste(rep(\"=\", 80), collapse=\"\"))\n",
    "print(\"REPRODUCTION DES FIGURES 2 ET 3\")\n",
    "print(paste(rep(\"=\", 80), collapse=\"\"))\n",
    "\n",
    "# FIG 2\n",
    "plotdata = ts(cbind(unlist(data[data[,\"Treated\"]==1, smokeNames]),\n",
    "                    unlist(t(as.matrix(data[data[,\"Treated\"]==0, smokeNames]))%*%W)),start=c(1970), freq=1)\n",
    "\n",
    "\n",
    "plot(plotdata, plot.type=\"single\",\n",
    "     col=c(\"steelblue\",\"firebrick\"), lwd=2,\n",
    "     lty=c(1, 6),xlab=\"\", ylab=\"Consommation de tabac (paquets / tête)\",\n",
    "     ylim=c(35,150))\n",
    "lim <- par(\"usr\")\n",
    "rect(1988, lim[3], lim[2], lim[4], col = rgb(0.5,0.5,0.5,1/4))\n",
    "axis(1) ## add axes back\n",
    "axis(2)\n",
    "box() \n",
    "legend(1971,80,\n",
    "       legend=c(\"Californie\", \"Californie synthétique\"),\n",
    "       col=c(\"steelblue\",\"firebrick\"), lwd=2,\n",
    "       lty=c(1,6))\n",
    "\n",
    "# FIG 3\n",
    "treatmentEffect_hat = data[data[,\"Treated\"]==1, smokeNames] - t(as.matrix(data[data[,\"Treated\"]==0, smokeNames]))%*%W\n",
    "treatmentPlot = ts(unlist(treatmentEffect_hat),start=c(1970), freq=1)\n",
    "\n",
    "plot(treatmentPlot, plot.type=\"single\",\n",
    "     col=c(\"steelblue\"), lwd=2,\n",
    "     lty=c(1),xlab=\"\", ylab=\"Consommation de tabac (paquets / tête)\",\n",
    "     ylim=c(-30,30))\n",
    "abline(h=0, lty=c(1))\n",
    "lim <- par(\"usr\")\n",
    "rect(1988, lim[3], lim[2], lim[4], col = rgb(0.5,0.5,0.5,1/4))\n",
    "axis(1) ## add axes back\n",
    "axis(2)\n",
    "box() \n",
    "legend(1971,80,\n",
    "       legend=c(\"Effet du traitement\"),\n",
    "       col=c(\"steelblue\"), lwd=2,\n",
    "       lty=c(1,6))"
   ]
  },
  {
   "cell_type": "code",
   "execution_count": null,
   "metadata": {
    "vscode": {
     "languageId": "r"
    }
   },
   "outputs": [
    {
     "data": {
      "text/html": [
       "<strong>png:</strong> 2"
      ],
      "text/latex": [
       "\\textbf{png:} 2"
      ],
      "text/markdown": [
       "**png:** 2"
      ],
      "text/plain": [
       "png \n",
       "  2 "
      ]
     },
     "metadata": {},
     "output_type": "display_data"
    }
   ],
   "source": [
    "# SAUVEGARDE\n",
    "\n",
    "jpeg(\"Tobacco_Fig_2_3.jpg\", res=150, width = 1500, height = 750)\n",
    "par(mfrow=c(1,2))\n",
    "plot(plotdata, plot.type=\"single\",\n",
    "     col=c(\"steelblue\",\"firebrick\"), lwd=2,\n",
    "     lty=c(1, 6),xlab=\"\", ylab=\"Consommation de tabac (paquets / tête)\",\n",
    "     ylim=c(35,150))\n",
    "lim <- par(\"usr\")\n",
    "rect(1988, lim[3], lim[2], lim[4], col = rgb(0.5,0.5,0.5,1/4))\n",
    "axis(1) ## add axes back\n",
    "axis(2)\n",
    "box() \n",
    "legend(1971, 60,\n",
    "       legend=c(\"Californie\", \"Californie synthétique\"),\n",
    "       col=c(\"steelblue\",\"firebrick\"), lwd=2,\n",
    "       lty=c(1,6))\n",
    "\n",
    "plot(treatmentPlot, plot.type=\"single\",\n",
    "     col=c(\"steelblue\"), lwd=2,\n",
    "     lty=c(1),xlab=\"\", ylab=\"Consommation de tabac (paquets / tête)\",\n",
    "     ylim=c(-30,30))\n",
    "abline(h=0, lty=c(1))\n",
    "lim <- par(\"usr\")\n",
    "rect(1988, lim[3], lim[2], lim[4], col = rgb(0.5,0.5,0.5,1/4))\n",
    "axis(1) ## add axes back\n",
    "axis(2)\n",
    "box() \n",
    "legend(1971,80,\n",
    "       legend=c(\"Effet du traitement\"),\n",
    "       col=c(\"steelblue\"), lwd=2,\n",
    "       lty=c(1,6))\n",
    "dev.off()"
   ]
  },
  {
   "cell_type": "markdown",
   "metadata": {},
   "source": [
    "# 4. INFERENCE -- Figure 10.5"
   ]
  },
  {
   "cell_type": "code",
   "execution_count": null,
   "metadata": {
    "vscode": {
     "languageId": "r"
    }
   },
   "outputs": [
    {
     "name": "stdout",
     "output_type": "stream",
     "text": [
      "[1] \"================================================================================\"\n",
      "[1] \"INFERENCE PAR TESTS DE PERMUTATION\"\n",
      "[1] \"================================================================================\"\n",
      "[1] \"Calcul du contrefactuel pour Etat 1\"\n",
      "X1,X0,Z1,Z0 were individually input (not dataprep object.)\n",
      "\n",
      "\n",
      "**************** \n",
      " searching for synthetic control unit  \n",
      " \n",
      "\n",
      "**************** \n",
      "**************** \n",
      "**************** \n",
      "\n",
      "MSPE (LOSS V): 6.58282 \n",
      "\n",
      "solution.v:\n",
      " 0.01492801 0.001842687 0.0005131206 0.04800841 0.04951212 0.4270047 0.4581909 \n",
      "\n",
      "solution.w:\n",
      " 0.4147529 0.001917011 0.002120084 0.002438714 3.6466e-06 0.00204764 0.002237137 0.003059564 0.002954479 0.002831604 0.0009275457 0.002844294 0.003433127 0.003093951 0.100423 0.002196379 0.001770925 0.00252069 0.0007764767 0.0001268067 0.001448057 0.001565672 0.002634669 0.0005301594 0.001948301 0.001644836 0.002792411 0.002510242 0.003569819 0.2748523 0.002258458 0.1377569 0.002200078 0.002105925 0.005470273 0.0004873176 0.001688975 0.002059589 \n",
      "\n",
      "[1] \"Calcul du contrefactuel pour Etat 2\"\n",
      "X1,X0,Z1,Z0 were individually input (not dataprep object.)\n",
      "\n",
      "\n",
      "**************** \n",
      " searching for synthetic control unit  \n",
      " \n",
      "\n",
      "**************** \n",
      "**************** \n",
      "**************** \n",
      "\n",
      "MSPE (LOSS V): 4.572403 \n",
      "\n",
      "solution.v:\n",
      " 0.005625834 0.007811399 0.003969546 0.0005559724 0.01526489 0.2486216 0.7181508 \n",
      "\n",
      "solution.w:\n",
      " 0.2724029 4.1889e-06 0.005042106 4.8373e-06 2.6169e-06 7.48469e-05 8.6122e-06 4.1441e-06 2.04466e-05 8.2558e-06 1.3827e-06 2.3192e-06 5.75204e-05 2.17037e-05 9.6901e-06 1.10494e-05 1.63693e-05 1.20723e-05 4.2825e-06 2.377e-07 5.5866e-06 2.0483e-06 6.846e-06 5.84e-06 0.03280553 7.41039e-05 5.776e-06 2.0261e-06 9.9835e-06 0.6887288 1.0502e-05 1.56e-07 8.308e-07 2.7891e-06 0.0006093972 1.14425e-05 4.5894e-06 4.1462e-06 \n",
      "\n",
      "[1] \"Calcul du contrefactuel pour Etat 4\"\n",
      "X1,X0,Z1,Z0 were individually input (not dataprep object.)\n",
      "\n",
      "\n",
      "**************** \n",
      " searching for synthetic control unit  \n",
      " \n",
      "[1] \"Calcul du contrefactuel pour Etat 5\"\n",
      "X1,X0,Z1,Z0 were individually input (not dataprep object.)\n",
      "\n",
      "\n",
      "**************** \n",
      " searching for synthetic control unit  \n",
      " \n",
      "\n",
      "**************** \n",
      "**************** \n",
      "**************** \n",
      "\n",
      "MSPE (LOSS V): 24.61216 \n",
      "\n",
      "solution.v:\n",
      " 0.1360228 0.09896667 0.1199306 0.1897 0.1703778 0.1544365 0.1305655 \n",
      "\n",
      "solution.w:\n",
      " 7.96193e-05 0.0004816363 5.27546e-05 0.0002575757 9.3373e-05 0.001352806 0.05124931 0.0001387982 0.0001656127 0.0009002868 7.08343e-05 2.9186e-05 0.001921227 0.742357 2.3781e-05 0.0008725573 7.22308e-05 9.80404e-05 3.8365e-06 0.0002756598 1.75837e-05 1.24936e-05 1.82905e-05 0.0003404898 0.001272163 0.004297122 0.0004388532 3.026e-06 4.78426e-05 0.0001884787 1.44091e-05 4.0681e-06 6.83028e-05 6.24481e-05 0.0002958722 1.29078e-05 9.64602e-05 0.192313 \n",
      "\n",
      "[1] \"Calcul du contrefactuel pour Etat 6\"\n",
      "X1,X0,Z1,Z0 were individually input (not dataprep object.)\n",
      "\n",
      "\n",
      "**************** \n",
      " searching for synthetic control unit  \n",
      " \n",
      "\n",
      "**************** \n",
      "**************** \n",
      "**************** \n",
      "\n",
      "MSPE (LOSS V): 39.84738 \n",
      "\n",
      "solution.v:\n",
      " 0.03699298 0.01486887 1e-10 0.0481863 0.004547104 0.3954578 0.4999469 \n",
      "\n",
      "solution.w:\n",
      " 0.002935704 0.003813087 0.0007887712 0.2349505 0.005223675 0.001458817 0.001921272 0.002733684 0.002203811 0.001696175 0.002270976 0.002663811 0.003514875 0.002007696 0.00271818 0.006203121 0.001689964 0.002032911 1.58631e-05 0.1910188 0.001808105 0.001390316 0.001630386 0.3881969 0.001589614 0.003237564 0.01127137 0.002987453 0.001824232 0.005447 -8.1e-09 0.0009967513 0.004696848 0.0001394868 0.002307073 0.0983711 0.001353548 0.0008905433 \n",
      "\n",
      "[1] \"Calcul du contrefactuel pour Etat 7\"\n",
      "X1,X0,Z1,Z0 were individually input (not dataprep object.)\n",
      "\n",
      "\n",
      "**************** \n",
      " searching for synthetic control unit  \n",
      " \n",
      "\n",
      "**************** \n",
      "**************** \n",
      "**************** \n",
      "\n",
      "MSPE (LOSS V): 1.734845 \n",
      "\n",
      "solution.v:\n",
      " 0.005085541 0.00874106 0.001112849 0.01005983 0.07700117 0.3785655 0.519434 \n",
      "\n",
      "solution.w:\n",
      " 0.0003185541 2.60142e-05 0.0003217334 0.06727502 0.04784504 8.5505e-05 0.0004481125 0.0001867055 0.0001960341 0.0005118217 0.007134156 0.001934732 0.0002283173 0.0001818048 0.0002926592 0.0006060658 0.0001071337 0.0001147101 0.0001037739 0.0002870566 5.66034e-05 0.0002107181 0.0002752285 0.1933385 0.001480544 0.000223802 0.0002502347 0.2196002 0.0001166688 0.4519618 0.0006447221 7e-10 0.001173301 0.001523766 0.000107981 7.82776e-05 0.0006172291 0.0001355012 \n",
      "\n",
      "[1] \"Calcul du contrefactuel pour Etat 8\"\n",
      "X1,X0,Z1,Z0 were individually input (not dataprep object.)\n",
      "\n",
      "\n",
      "**************** \n",
      " searching for synthetic control unit  \n",
      " \n",
      "\n",
      "**************** \n",
      "**************** \n",
      "**************** \n",
      "\n",
      "MSPE (LOSS V): 6.14566 \n",
      "\n",
      "solution.v:\n",
      " 0.03078345 0.001368562 7.17333e-05 0.0001213336 0.02594816 0.361342 0.5803648 \n",
      "\n",
      "solution.w:\n",
      " 0.001168978 0.001409554 0.0003978574 0.0003468916 0.0003579328 0.0005273843 0.0004326538 0.0005418588 0.0008521317 0.0005621008 0.0002422192 0.0006095785 0.00101134 0.0006190449 0.01816636 0.0005130391 0.353675 0.0009074816 0.0003462869 2.68226e-05 1.5178e-05 0.1876202 1.3884e-06 0.0004810075 0.0006047437 0.0005524922 0.0004393668 0.0006498396 0.003015053 0.0007216267 0.0004679447 0.4110475 0.0004746087 0.0003279126 0.009378699 0.0007314326 0.0003170932 0.0004393679 \n",
      "\n",
      "[1] \"Calcul du contrefactuel pour Etat 9\"\n",
      "X1,X0,Z1,Z0 were individually input (not dataprep object.)\n",
      "\n",
      "\n",
      "**************** \n",
      " searching for synthetic control unit  \n",
      " \n",
      "\n",
      "**************** \n",
      "**************** \n",
      "**************** \n",
      "\n",
      "MSPE (LOSS V): 5.922921 \n",
      "\n",
      "solution.v:\n",
      " 0.03427728 0.3610916 0.2204481 0.009183022 0.07137797 0.01922416 0.2843978 \n",
      "\n",
      "solution.w:\n",
      " 0.004307161 0.006169022 0.2125768 0.2284596 0.008343148 0.006739632 0.007058738 0.003815684 0.006594267 0.006315364 0.002860276 0.002969949 0.005902072 0.005603534 0.002745264 0.01493431 0.008713511 0.008190563 0.03104936 0.03415245 0.005935679 0.001546657 0.003038485 0.03604472 0.004994769 0.05850642 0.005824903 0.00359839 0.004344475 0.007178068 0.05297186 0.001116532 0.005715002 0.05997124 0.004669496 8.2278e-06 0.007221732 0.1298126 \n",
      "\n",
      "[1] \"Calcul du contrefactuel pour Etat 10\"\n",
      "X1,X0,Z1,Z0 were individually input (not dataprep object.)\n",
      "\n",
      "\n",
      "**************** \n",
      " searching for synthetic control unit  \n",
      " \n",
      "\n",
      "**************** \n",
      "**************** \n",
      "**************** \n",
      "\n",
      "MSPE (LOSS V): 15.59385 \n",
      "\n",
      "solution.v:\n",
      " 0.02558396 0.116106 0.2123174 0.1050191 0.1401892 0.05512918 0.3456552 \n",
      "\n",
      "solution.w:\n",
      " 0.0004174152 0.0006077789 8.6157e-05 0.0003417983 5.302e-07 0.0009373058 0.001096993 0.0001034295 0.0001093845 0.0002457161 2.3803e-06 5.45832e-05 0.0003038064 5.39533e-05 8.09235e-05 0.000406758 8.39193e-05 0.0001181373 8.58963e-05 6.15853e-05 7.1194e-05 0.2546586 4.99978e-05 0.0003889671 0.0001386697 0.0001753167 0.2298296 6.058e-06 0.0001469789 0.2155551 2.65787e-05 0.0009147401 7.17305e-05 0.2198315 0.07269992 2.51924e-05 9.69361e-05 0.000114365 \n",
      "\n",
      "[1] \"Calcul du contrefactuel pour Etat 11\"\n",
      "X1,X0,Z1,Z0 were individually input (not dataprep object.)\n",
      "\n",
      "\n",
      "**************** \n",
      " searching for synthetic control unit  \n",
      " \n",
      "\n",
      "**************** \n",
      "**************** \n",
      "**************** \n",
      "\n",
      "MSPE (LOSS V): 13.0369 \n",
      "\n",
      "solution.v:\n",
      " 0.04596641 0.001466327 7.7e-09 1.961e-07 0.07058641 0.3809976 0.5009831 \n",
      "\n",
      "solution.w:\n",
      " 0.02002312 0.02013745 0.01126922 0.07489127 0.01097375 0.01342083 0.0208656 0.01332522 0.01043934 0.01501613 0.006913278 0.02679549 0.01773181 0.05366827 0.0259801 0.01222399 0.01986828 0.01941378 0.03189067 0.0007698496 0.02505893 0.006838522 0.04924294 0.01237106 0.03664184 0.01448387 0.01114873 0.01366984 0.02426858 0.01475513 0.1581707 0.1165653 0.01546956 0.008780969 0.02561235 0.02242918 0.01051528 0.008359854 \n",
      "\n",
      "[1] \"Calcul du contrefactuel pour Etat 12\"\n",
      "X1,X0,Z1,Z0 were individually input (not dataprep object.)\n",
      "\n",
      "\n",
      "**************** \n",
      " searching for synthetic control unit  \n",
      " \n",
      "\n",
      "**************** \n",
      "**************** \n",
      "**************** \n",
      "\n",
      "MSPE (LOSS V): 15.75882 \n",
      "\n",
      "solution.v:\n",
      " 0.1217021 0.005779494 0.1499227 0.196596 0.1454434 0.1842764 0.19628 \n",
      "\n",
      "solution.w:\n",
      " 0.005243499 0.008341064 7.4518e-06 0.2518576 0.001979083 0.004364306 0.05971432 0.004340959 0.004959876 0.00487195 2.76249e-05 0.00222964 0.005065858 0.003888432 0.002760826 0.005970424 0.003737708 0.004436258 0.0008361234 0.0002502231 0.002476723 1.25875e-05 0.002964748 0.004896291 0.2628761 0.005006237 0.002401156 0.002587316 0.005164737 0.006263479 0.00169411 0.1121041 0.001850663 0.2009229 0.00635064 0.001168469 0.003120215 0.003256267 \n",
      "\n",
      "[1] \"Calcul du contrefactuel pour Etat 13\"\n",
      "X1,X0,Z1,Z0 were individually input (not dataprep object.)\n",
      "\n",
      "\n",
      "**************** \n",
      " searching for synthetic control unit  \n",
      " \n",
      "\n",
      "**************** \n",
      "**************** \n",
      "**************** \n",
      "\n",
      "MSPE (LOSS V): 436.2785 \n",
      "\n",
      "solution.v:\n",
      " 0.03018583 7.5093e-06 0.3597967 0.0003638756 0.05521191 9.27e-08 0.5544341 \n",
      "\n",
      "solution.w:\n",
      " 5.07779e-05 0.08177635 3.24296e-05 4.7184e-06 1.2731e-06 2.23466e-05 3.71317e-05 3.54002e-05 9.10851e-05 3.98813e-05 3.53374e-05 5.0319e-05 7.02002e-05 1.98603e-05 4.0061e-06 6.42656e-05 4.57815e-05 2.85395e-05 0.0001485498 0.3085909 2.64698e-05 0.5402992 3.97448e-05 4.09472e-05 6.06201e-05 2.54533e-05 2.9658e-05 0.06800321 4.54232e-05 4.479e-07 2.70429e-05 2.3982e-06 6.45718e-05 4.81077e-05 8.9907e-06 2.72684e-05 7.98893e-05 2.14427e-05 \n",
      "\n",
      "[1] \"Calcul du contrefactuel pour Etat 14\"\n",
      "X1,X0,Z1,Z0 were individually input (not dataprep object.)\n",
      "\n",
      "\n",
      "**************** \n",
      " searching for synthetic control unit  \n",
      " \n",
      "\n",
      "**************** \n",
      "**************** \n",
      "**************** \n",
      "\n",
      "MSPE (LOSS V): 2.697502 \n",
      "\n",
      "solution.v:\n",
      " 0.03123762 0.005640347 0.003120962 0.001909206 0.07770957 0.2913347 0.5890476 \n",
      "\n",
      "solution.w:\n",
      " 0.0004903508 0.0001942956 0.0003365434 0.0002695341 0.0003614399 0.0003422775 0.0001857495 0.0003523362 0.0002102971 0.000379145 0.0003862689 0.07537994 0.0002759831 0.0005566996 0.3446997 0.0002084149 0.0002133801 0.0002821495 0.0001505706 0.04362516 0.0002653663 0.0002375577 0.04882133 0.000223136 0.009016732 0.0002209703 0.0002605887 0.000299437 0.0004074685 0.0002437853 0.3983702 0.0009357512 0.07022999 0.0002222348 0.0002823482 0.0002614457 0.0005280914 0.000273346 \n",
      "\n",
      "[1] \"Calcul du contrefactuel pour Etat 15\"\n",
      "X1,X0,Z1,Z0 were individually input (not dataprep object.)\n",
      "\n",
      "\n",
      "**************** \n",
      " searching for synthetic control unit  \n",
      " \n",
      "\n",
      "**************** \n",
      "**************** \n",
      "**************** \n",
      "\n",
      "MSPE (LOSS V): 9.384985 \n",
      "\n",
      "solution.v:\n",
      " 0.1143099 0.2247341 0.03037021 0.1728649 0.09371913 0.08401998 0.2799817 \n",
      "\n",
      "solution.w:\n",
      " 0.006997528 0.3010811 0.0005571442 0.1209796 0.005842983 0.002982161 0.002402315 0.002295899 0.003373685 0.003173225 0.002389167 0.006187659 0.004217958 0.003309579 0.007242821 0.003312425 0.001675583 0.002250911 0.06466835 0.09888057 0.001450113 0.00242198 0.002035066 0.002482128 0.00376864 0.002623029 0.01003939 0.001259157 0.002965139 0.005092701 0.002157931 0.001457715 0.004833701 0.0002971487 0.3073492 0.003434832 0.001315521 0.00119591 \n",
      "\n",
      "[1] \"Calcul du contrefactuel pour Etat 16\"\n",
      "X1,X0,Z1,Z0 were individually input (not dataprep object.)\n",
      "\n",
      "\n",
      "**************** \n",
      " searching for synthetic control unit  \n",
      " \n",
      "\n",
      "**************** \n",
      "**************** \n",
      "**************** \n",
      "\n",
      "MSPE (LOSS V): 15.74607 \n",
      "\n",
      "solution.v:\n",
      " 0.06558685 0.001927829 0.01302378 0.000226364 2.56e-08 0.3685432 0.550692 \n",
      "\n",
      "solution.w:\n",
      " 0.01409072 0.01437214 0.007067518 0.3607435 0.007314797 0.007904411 0.008187808 0.008598828 0.005765435 0.01127254 0.009198098 0.002730225 0.01044498 0.009049652 0.01417493 0.008017049 0.009301076 0.01130559 0.003679742 0.0003891328 0.01208095 0.002780892 0.01167362 0.008328098 0.009865746 0.01125142 0.007006147 0.007127403 0.01140896 0.01042927 0.1767445 0.1534291 0.007264553 0.005221812 0.01081733 0.01749348 0.005673875 0.007794703 \n",
      "\n",
      "[1] \"Calcul du contrefactuel pour Etat 17\"\n",
      "X1,X0,Z1,Z0 were individually input (not dataprep object.)\n",
      "\n",
      "\n",
      "**************** \n",
      " searching for synthetic control unit  \n",
      " \n",
      "\n",
      "**************** \n",
      "**************** \n",
      "**************** \n",
      "\n",
      "MSPE (LOSS V): 4.161408 \n",
      "\n",
      "solution.v:\n",
      " 0.003940861 0.0008594656 0.008020886 0.07007519 0.1039571 0.4575701 0.3555764 \n",
      "\n",
      "solution.w:\n",
      " 0.100324 0.1406236 1.27611e-05 7.4638e-06 7.3962e-06 6.5657e-06 2.23004e-05 1.14096e-05 8.2258e-06 2.12356e-05 1.17595e-05 3.7011e-06 0.1484007 1.45845e-05 1.7294e-05 1.04585e-05 3.59876e-05 2.22126e-05 6.0174e-06 1.8529e-06 0.05163009 6.744e-06 0.0001283398 1.05841e-05 1.65326e-05 1.49738e-05 8.1549e-06 0.4257019 4.85927e-05 4.8e-09 3.2809e-06 0.1327459 1.89366e-05 6.7226e-06 2.95082e-05 3.83399e-05 1.14944e-05 1.03813e-05 \n",
      "\n",
      "[1] \"Calcul du contrefactuel pour Etat 18\"\n",
      "X1,X0,Z1,Z0 were individually input (not dataprep object.)\n",
      "\n",
      "\n",
      "**************** \n",
      " searching for synthetic control unit  \n",
      " \n",
      "\n",
      "**************** \n",
      "**************** \n",
      "**************** \n",
      "\n",
      "MSPE (LOSS V): 1.814569 \n",
      "\n",
      "solution.v:\n",
      " 3.42e-08 0.001748913 0.007965842 0.01037642 0.07166831 0.392372 0.5158684 \n",
      "\n",
      "solution.w:\n",
      " 0.001006437 0.3033845 0.0009567183 0.001094447 0.0006428283 0.001309003 0.004382517 0.001107469 0.00214145 0.001099663 0.00107823 0.04356393 0.0005292009 0.002855306 0.0008074514 0.0006714057 0.001493295 0.001299387 0.1338155 1.46639e-05 0.001033084 0.0007235032 0.0006109632 0.4336127 0.0007603247 0.004310848 0.001356943 0.001014336 0.0009404306 0.0437035 0.0006679936 0.000588149 0.0006758275 0.002115894 0.001898531 0.001011103 0.0008532 0.0008692985 \n",
      "\n",
      "[1] \"Calcul du contrefactuel pour Etat 19\"\n",
      "X1,X0,Z1,Z0 were individually input (not dataprep object.)\n",
      "\n",
      "\n",
      "**************** \n",
      " searching for synthetic control unit  \n",
      " \n",
      "\n",
      "**************** \n",
      "**************** \n",
      "**************** \n",
      "\n",
      "MSPE (LOSS V): 5.382024 \n",
      "\n",
      "solution.v:\n",
      " 0.001265864 0.003120398 0.0001180005 0.003044539 0.07166741 0.3974941 0.5232897 \n",
      "\n",
      "solution.w:\n",
      " 2.79463e-05 2.65125e-05 0.1257584 2.14907e-05 1.90387e-05 2.54014e-05 0.1423649 3.91352e-05 1.7602e-05 4.33851e-05 3.67839e-05 1.33423e-05 5.29989e-05 2.33191e-05 3.72538e-05 3.633e-05 2.62325e-05 5.05807e-05 1.41e-08 0.07137574 0.5071082 1.17985e-05 0.1516699 2.74815e-05 5.9635e-05 3.52126e-05 1.70013e-05 3.12182e-05 4.81522e-05 2.41527e-05 0.0001203394 0.0002558777 3.72278e-05 2.56431e-05 2.735e-05 3.34957e-05 0.000444919 2.59264e-05 \n",
      "\n",
      "[1] \"Calcul du contrefactuel pour Etat 20\"\n",
      "X1,X0,Z1,Z0 were individually input (not dataprep object.)\n",
      "\n",
      "\n",
      "**************** \n",
      " searching for synthetic control unit  \n",
      " \n",
      "\n",
      "**************** \n",
      "**************** \n",
      "**************** \n",
      "\n",
      "MSPE (LOSS V): 4.612266 \n",
      "\n",
      "solution.v:\n",
      " 0.02995799 1.2e-09 0.0002307492 0.001548382 0.07147756 0.386776 0.5100093 \n",
      "\n",
      "solution.w:\n",
      " 0.0113222 0.01090965 0.02497282 0.07004386 0.007705229 0.009959628 0.02622005 0.01705847 0.006645996 0.01718288 0.01378997 0.002651881 0.01084888 0.009557896 0.02771413 0.01119063 0.01028075 0.04132489 0.005973251 0.0004492728 0.09591344 0.003479043 0.01818195 0.01223731 0.01160432 0.02433562 0.007209938 0.009085608 0.01574179 0.01033519 0.06186752 0.1589466 0.008296342 0.007312571 0.01186773 0.1055626 0.008990717 0.09322946 \n",
      "\n",
      "[1] \"Calcul du contrefactuel pour Etat 21\"\n",
      "X1,X0,Z1,Z0 were individually input (not dataprep object.)\n",
      "\n",
      "\n",
      "**************** \n",
      " searching for synthetic control unit  \n",
      " \n",
      "\n",
      "**************** \n",
      "**************** \n",
      "**************** \n",
      "\n",
      "MSPE (LOSS V): 42.88023 \n",
      "\n",
      "solution.v:\n",
      " 0.002367439 0.003012766 0.0002999606 0.0009942815 0.003571284 0.8065077 0.1832465 \n",
      "\n",
      "solution.w:\n",
      " 2.66036e-05 2.45662e-05 8.4636e-06 7.6403e-06 4.41727e-05 1.97569e-05 0.0003146788 1.87349e-05 0.0001844974 4.31272e-05 1.90498e-05 1.85338e-05 2.82199e-05 0.0001087199 6.55857e-05 3.24319e-05 2.46264e-05 7.54054e-05 5.52735e-05 0.3086656 0.0001272329 0.2833335 2.77424e-05 1.95035e-05 2.20551e-05 2.46988e-05 0.0005188734 1.91001e-05 4.95087e-05 2.18083e-05 2.38893e-05 3.03757e-05 3.44633e-05 1.47144e-05 0.0001685646 0.002326674 1.92332e-05 0.4034325 \n",
      "\n",
      "[1] \"Calcul du contrefactuel pour Etat 22\"\n",
      "X1,X0,Z1,Z0 were individually input (not dataprep object.)\n",
      "\n",
      "\n",
      "**************** \n",
      " searching for synthetic control unit  \n",
      " \n",
      "\n",
      "**************** \n",
      "**************** \n",
      "**************** \n",
      "\n",
      "MSPE (LOSS V): 3485.458 \n",
      "\n",
      "solution.v:\n",
      " 0.004170636 0.01251283 0.0241427 0.001355688 0.3147697 0.4494996 0.1935489 \n",
      "\n",
      "solution.w:\n",
      " 2.1e-09 2.9e-09 3e-09 2.2e-09 5.3e-09 2.8e-09 2.2e-09 3.6e-09 5.5e-09 2.5e-09 2.7e-09 0.9999998 3.9e-09 4.6e-09 2e-09 2.3e-09 4.3e-09 2.4e-09 2e-09 3.38e-08 1.3e-09 3.02e-08 2.2e-09 3e-09 4.2e-09 2.5e-09 5.7e-09 3e-09 1.8e-09 2.6e-09 2.6e-09 1e-10 7.6e-09 4.9e-09 2.6e-09 2e-09 7.6e-09 2.4e-09 \n",
      "\n",
      "[1] \"Calcul du contrefactuel pour Etat 23\"\n",
      "X1,X0,Z1,Z0 were individually input (not dataprep object.)\n",
      "\n",
      "\n",
      "**************** \n",
      " searching for synthetic control unit  \n",
      " \n",
      "\n",
      "**************** \n",
      "**************** \n",
      "**************** \n",
      "\n",
      "MSPE (LOSS V): 6.58952 \n",
      "\n",
      "solution.v:\n",
      " 0.1379919 0.1644128 0.1692784 2.29236e-05 0.1479519 0.2051914 0.1751508 \n",
      "\n",
      "solution.w:\n",
      " 0.00755483 0.007328996 0.00650806 0.002114874 0.002872624 0.005494382 0.2842826 0.003998564 0.004364251 0.005855503 0.005270085 0.005177418 0.006975236 0.004170553 0.004117005 0.03445593 0.004546055 0.01756795 0.006312234 0.00169368 0.0002240507 0.00577513 0.01110191 0.00489596 0.006700422 0.004522487 0.002882858 0.03575954 0.01138384 0.006098106 0.005453135 0.4538079 0.004705496 0.005060835 0.006339421 0.004203857 0.006267661 0.004156543 \n",
      "\n",
      "[1] \"Calcul du contrefactuel pour Etat 24\"\n",
      "X1,X0,Z1,Z0 were individually input (not dataprep object.)\n",
      "\n",
      "\n",
      "**************** \n",
      " searching for synthetic control unit  \n",
      " \n",
      "\n",
      "**************** \n",
      "**************** \n",
      "**************** \n",
      "\n",
      "MSPE (LOSS V): 150.475 \n",
      "\n",
      "solution.v:\n",
      " 0.1483613 0.004990947 7.6658e-06 2.741e-07 0.2222193 0.2447219 0.3796986 \n",
      "\n",
      "solution.w:\n",
      " 2.5243e-06 2.4233e-06 3.6768e-06 7.353e-07 4.565e-06 3.0296e-06 0.2659563 3.0398e-06 4.19032e-05 2.8991e-06 2.9724e-06 0.4471994 2.5716e-06 5.8331e-06 1.6547e-06 2.4529e-06 4.0748e-06 4.099e-06 2.7332e-06 0.0001616384 0.286525 3.8109e-06 1.8676e-06 2.691e-06 2.3528e-06 1.9619e-06 7.5598e-06 5.3206e-06 4.1391e-06 2.8637e-06 1.5838e-06 2e-09 4.7028e-06 8.2586e-06 6.6531e-06 2.2341e-06 6.7354e-06 3.6798e-06 \n",
      "\n",
      "[1] \"Calcul du contrefactuel pour Etat 25\"\n",
      "X1,X0,Z1,Z0 were individually input (not dataprep object.)\n",
      "\n",
      "\n",
      "**************** \n",
      " searching for synthetic control unit  \n",
      " \n",
      "\n",
      "**************** \n",
      "**************** \n",
      "**************** \n",
      "\n",
      "MSPE (LOSS V): 10.63294 \n",
      "\n",
      "solution.v:\n",
      " 0.001291323 0.01502121 0.0004372181 1.23588e-05 0.06916076 0.3876766 0.5264006 \n",
      "\n",
      "solution.w:\n",
      " 0.0001003176 7.73094e-05 0.001463106 4.5743e-05 4.78965e-05 8.50206e-05 0.0001726469 9.94004e-05 5.28218e-05 0.0001306163 0.0001270553 3.58236e-05 0.0002692358 5.72506e-05 0.0001009994 0.0001588395 7.02039e-05 3.8285e-05 0.0001570842 1.94698e-05 7.825e-07 0.0005206977 3.01054e-05 8.05057e-05 0.4664926 9.07823e-05 4.27593e-05 0.0001313989 0.0002073134 7.74971e-05 0.097982 0.294837 8.68942e-05 8.50147e-05 7.88417e-05 8.5819e-05 0.1357212 0.0001395741 \n",
      "\n",
      "[1] \"Calcul du contrefactuel pour Etat 26\"\n",
      "X1,X0,Z1,Z0 were individually input (not dataprep object.)\n",
      "\n",
      "\n",
      "**************** \n",
      " searching for synthetic control unit  \n",
      " \n",
      "\n",
      "**************** \n",
      "**************** \n",
      "**************** \n",
      "\n",
      "MSPE (LOSS V): 14.59939 \n",
      "\n",
      "solution.v:\n",
      " 0.1377624 0.1044076 0.1289075 0.07111373 0.2007495 0.1283961 0.2286633 \n",
      "\n",
      "solution.w:\n",
      " 7.26181e-05 7.5268e-05 4.22752e-05 0.0001086852 6.965e-06 0.2437924 7.22145e-05 1.58076e-05 4.88252e-05 5.25631e-05 1.88624e-05 3.12182e-05 4.31533e-05 3.71217e-05 1.78521e-05 9.1045e-05 0.2647294 0.0001341009 8.80665e-05 2.76541e-05 1.02483e-05 0.0002019134 2.104e-05 4.37835e-05 2.15019e-05 0.3275926 9.646e-07 0.003088705 6.73166e-05 0.04274742 0.000105343 2.18168e-05 6.58557e-05 0.1112989 5.43897e-05 0.005106365 3.46106e-05 1.1077e-05 \n",
      "\n",
      "[1] \"Calcul du contrefactuel pour Etat 27\"\n",
      "X1,X0,Z1,Z0 were individually input (not dataprep object.)\n",
      "\n",
      "\n",
      "**************** \n",
      " searching for synthetic control unit  \n",
      " \n",
      "\n",
      "**************** \n",
      "**************** \n",
      "**************** \n",
      "\n",
      "MSPE (LOSS V): 21.44857 \n",
      "\n",
      "solution.v:\n",
      " 0.05590305 0.02973412 0.03478044 0.02078369 0.07497939 0.4598039 0.3240154 \n",
      "\n",
      "solution.w:\n",
      " 0.0006468308 0.1704327 0.0003054208 0.2360325 0.0001246232 0.0002112172 0.1315349 0.0003966119 0.0001378032 0.0007209649 0.001595758 0.189266 0.007771518 0.0003036514 0.002257895 0.000521752 0.0001288134 0.0003475806 0.0003411986 6.10029e-05 0.0002252681 0.0002611508 0.0002290246 0.215791 0.000153058 0.000186553 0.0001124465 0.0002080488 0.0005383126 0.0002197859 0.0004905724 0.03587515 0.0004063498 0.0001280132 0.00102216 0.0001573925 0.0005954841 0.0002614838 \n",
      "\n",
      "[1] \"Calcul du contrefactuel pour Etat 28\"\n",
      "X1,X0,Z1,Z0 were individually input (not dataprep object.)\n",
      "\n",
      "\n",
      "**************** \n",
      " searching for synthetic control unit  \n",
      " \n",
      "\n",
      "**************** \n",
      "**************** \n",
      "**************** \n",
      "\n",
      "MSPE (LOSS V): 12.82373 \n",
      "\n",
      "solution.v:\n",
      " 0.02760983 0.1315565 0.003319781 0.07347565 0.2293694 0.1975965 0.3370723 \n",
      "\n",
      "solution.w:\n",
      " 0.001464191 0.002234216 0.01521401 0.1718157 0.001728967 0.003212677 0.00543868 0.004760924 0.001290304 0.002950109 0.00320035 0.0006185 0.001436473 0.001545508 0.002182587 0.001171577 0.006363759 0.007334116 0.009711564 0.0009172965 0.0001291866 0.1879355 0.0005673281 0.001952293 0.4530267 0.001599676 0.00132171 0.00204049 0.001858211 0.003022041 0.007564412 5.4831e-06 0.00152943 0.004315593 0.00140719 0.07917784 0.002035051 0.005920339 \n",
      "\n",
      "[1] \"Calcul du contrefactuel pour Etat 29\"\n",
      "X1,X0,Z1,Z0 were individually input (not dataprep object.)\n",
      "\n",
      "\n",
      "**************** \n",
      " searching for synthetic control unit  \n",
      " \n",
      "\n",
      "**************** \n",
      "**************** \n",
      "**************** \n",
      "\n",
      "MSPE (LOSS V): 97.42567 \n",
      "\n",
      "solution.v:\n",
      " 0.2048876 0.09616219 0.2151281 0.09139539 2e-10 0.3924268 1e-09 \n",
      "\n",
      "solution.w:\n",
      " 0.0101825 0.007777309 0.005519792 0.0685093 0.4960917 0.009143355 0.004308481 0.008607519 0.007698694 0.008764612 0.006722021 0.00926903 0.03252797 0.009256101 0.01621104 0.0152178 0.006168236 0.006499574 0.007154431 0.01286895 0.06566531 0.008452723 0.008257968 0.01573281 0.006414603 0.009083392 0.005914683 0.009470165 0.008715253 0.007415334 0.02951073 0.01027527 0.02169874 0.004602151 0.008220121 0.01959848 0.007865841 0.004607936 \n",
      "\n",
      "[1] \"Calcul du contrefactuel pour Etat 30\"\n",
      "X1,X0,Z1,Z0 were individually input (not dataprep object.)\n",
      "\n",
      "\n",
      "**************** \n",
      " searching for synthetic control unit  \n",
      " \n",
      "\n",
      "**************** \n",
      "**************** \n",
      "**************** \n",
      "\n",
      "MSPE (LOSS V): 2.2396 \n",
      "\n",
      "solution.v:\n",
      " 0.02449676 0.003852552 0.001382081 0.006519513 0.05939313 0.3913603 0.5129956 \n",
      "\n",
      "solution.w:\n",
      " 3.10882e-05 5.214e-07 1.74723e-05 3.5977e-06 2.3061e-05 0.01078665 6.621e-06 1.072e-05 6.971e-06 1.28264e-05 9.7818e-06 0.07292242 3.38271e-05 9.8328e-06 8.8445e-06 0.4479258 4.77559e-05 2.01186e-05 1.42601e-05 6.2737e-06 1.21625e-05 7.64284e-05 4.04345e-05 2.21308e-05 0.0002560153 8.7443e-06 2.00364e-05 1.32319e-05 1.37574e-05 0.2942457 3.13245e-05 1.37248e-05 4.57241e-05 0.173235 5.9122e-06 3.57989e-05 1.95436e-05 5.9071e-06 \n",
      "\n",
      "[1] \"Calcul du contrefactuel pour Etat 31\"\n",
      "X1,X0,Z1,Z0 were individually input (not dataprep object.)\n",
      "\n",
      "\n",
      "**************** \n",
      " searching for synthetic control unit  \n",
      " \n",
      "\n",
      "**************** \n",
      "**************** \n",
      "**************** \n",
      "\n",
      "MSPE (LOSS V): 7.230667 \n",
      "\n",
      "solution.v:\n",
      " 0.2273578 0.2540593 0.2167539 0.09762242 0.2042067 2.59e-08 3.9e-09 \n",
      "\n",
      "solution.w:\n",
      " 0.01515222 0.01772979 0.006342663 0.006316599 0.00487944 0.006872247 0.1511866 0.006361118 0.005335066 0.01146357 0.007635043 0.003134367 0.01211588 0.01005168 0.0110651 0.192376 0.005584647 0.01738985 0.01184576 0.003243424 0.0004995264 0.1194497 0.004176627 0.01572073 0.00595258 0.0109575 0.007561025 0.005299354 0.007377485 0.00850322 0.01079753 0.1863392 0.00745104 0.003665219 0.07556589 0.01233655 0.005631115 0.006634645 \n",
      "\n",
      "[1] \"Calcul du contrefactuel pour Etat 32\"\n",
      "X1,X0,Z1,Z0 were individually input (not dataprep object.)\n",
      "\n",
      "\n",
      "**************** \n",
      " searching for synthetic control unit  \n",
      " \n",
      "\n",
      "**************** \n",
      "**************** \n",
      "**************** \n",
      "\n",
      "MSPE (LOSS V): 5.318444 \n",
      "\n",
      "solution.v:\n",
      " 0.0005296308 0.0003569727 0.000261887 0.001776354 0.151813 0.3307654 0.5144967 \n",
      "\n",
      "solution.w:\n",
      " 0.01653274 0.618003 1.7136e-06 7.68336e-05 7e-10 0.365193 3.8948e-06 1.8451e-06 1.7166e-06 3.6958e-06 3.245e-06 1.003e-07 9.399e-07 1.672e-06 5.6001e-06 4.3094e-06 8.121e-07 2.4986e-06 6.9524e-06 4.563e-07 1.116e-07 1.22657e-05 3.736e-07 1.932e-06 1.46157e-05 9.554e-07 1.10582e-05 6.33e-08 1.3819e-06 7.6096e-06 1.5765e-06 1.202e-07 4.776e-07 9.27e-07 3.05702e-05 6.66601e-05 6.701e-07 3.5634e-06 \n",
      "\n",
      "[1] \"Calcul du contrefactuel pour Etat 33\"\n",
      "X1,X0,Z1,Z0 were individually input (not dataprep object.)\n",
      "\n",
      "\n",
      "**************** \n",
      " searching for synthetic control unit  \n",
      " \n",
      "\n",
      "**************** \n",
      "**************** \n",
      "**************** \n",
      "\n",
      "MSPE (LOSS V): 5.328533 \n",
      "\n",
      "solution.v:\n",
      " 0.002121758 0.02031295 9.95757e-05 0.001974214 0.042597 0.4212238 0.5116707 \n",
      "\n",
      "solution.w:\n",
      " 3.7414e-06 0.06480621 4.5566e-06 0.09257453 1.484e-06 5.0094e-06 1.4721e-06 3.7928e-06 9.94e-07 2.9998e-06 3.4669e-06 1.0105e-06 0.2359974 1.2421e-06 0.2082738 1.2638e-06 2.6924e-06 1.9245e-06 3.0715e-06 5.221e-07 4.59e-07 3.318e-07 6.996e-07 0.2799464 8.0663e-06 9.6e-09 0.1180912 1.0123e-06 2.9025e-06 2.0181e-06 4.8653e-06 6.6457e-06 1.5005e-06 1.8467e-06 1.1254e-06 0.0002356689 2.0167e-06 2.0278e-06 \n",
      "\n",
      "[1] \"Calcul du contrefactuel pour Etat 34\"\n",
      "X1,X0,Z1,Z0 were individually input (not dataprep object.)\n",
      "\n",
      "\n",
      "**************** \n",
      " searching for synthetic control unit  \n",
      " \n",
      "\n",
      "**************** \n",
      "**************** \n",
      "**************** \n",
      "\n",
      "MSPE (LOSS V): 593.7644 \n",
      "\n",
      "solution.v:\n",
      " 0.0001045125 0.008845668 0.04162042 0.007646267 0.4635553 0.3025615 0.1756663 \n",
      "\n",
      "solution.w:\n",
      " 5.1e-09 2.9e-09 3.7e-09 3.7e-09 2.1e-09 3.5e-09 0 3.2e-09 2.1e-09 3.9e-09 4.2e-09 6e-10 4.1e-09 2.2e-09 3.3e-09 6e-09 2.2e-09 1.1e-09 2.2e-09 1e-09 1e-10 0.9999999 1.3e-09 3e-10 2.9e-09 3.4e-09 3.1e-09 2e-09 3.8e-09 1.8e-09 3.2e-09 4.3e-09 2e-09 2.4e-09 3.5e-09 3.9e-09 2.4e-09 2.6e-09 \n",
      "\n",
      "[1] \"Calcul du contrefactuel pour Etat 35\"\n",
      "X1,X0,Z1,Z0 were individually input (not dataprep object.)\n",
      "\n",
      "\n",
      "**************** \n",
      " searching for synthetic control unit  \n",
      " \n",
      "\n",
      "**************** \n",
      "**************** \n",
      "**************** \n",
      "\n",
      "MSPE (LOSS V): 16.99301 \n",
      "\n",
      "solution.v:\n",
      " 0.0142225 3e-09 0.0384457 0.0001493616 0.02672815 0.3968853 0.523569 \n",
      "\n",
      "solution.w:\n",
      " 0.0008776969 0.002757276 0.0004573955 0.000798139 0.07244516 0.005402078 0.0003325367 0.0008235354 0.0003400128 0.0005674259 0.0006083013 0.3406096 0.0002898104 0.0007498161 0.0005628383 2.17824e-05 0.001622189 0.0003918739 0.0004415107 0.0004107996 2.51248e-05 0.0002948558 0.0001633134 0.0003359757 0.003667477 0.0007814661 0.0009673471 0.0006094372 0.06960584 0.000379005 0.002461459 0.4875516 0.0001052884 0.0006139094 0.0004699782 0.0005577692 0.0006121735 0.0002881611 \n",
      "\n",
      "[1] \"Calcul du contrefactuel pour Etat 36\"\n",
      "X1,X0,Z1,Z0 were individually input (not dataprep object.)\n",
      "\n",
      "\n",
      "**************** \n",
      " searching for synthetic control unit  \n",
      " \n",
      "\n",
      "**************** \n",
      "**************** \n",
      "**************** \n",
      "\n",
      "MSPE (LOSS V): 5.119095 \n",
      "\n",
      "solution.v:\n",
      " 0.004058211 0.006500841 0.02540992 0.001352301 0.07538007 0.3803577 0.5069409 \n",
      "\n",
      "solution.w:\n",
      " 0.0004441521 0.0003774832 0.1748089 0.0007961064 0.006510234 0.003040063 0.0003780539 0.001485951 0.3538102 0.0004868015 0.001035717 0.1207894 0.0003649892 0.0004088622 0.0004726763 0.0003162629 0.003366026 0.0004361971 0.0005572816 0.0004806654 3.1011e-06 0.0004155818 6.17985e-05 0.0003887647 0.04001429 0.0003813789 0.001120279 0.001433386 0.2760755 0.000390844 0.0008541598 0.0005232941 0.0004210522 0.0004979565 0.0003154387 0.0005072978 0.002869475 0.003360383 \n",
      "\n",
      "[1] \"Calcul du contrefactuel pour Etat 37\"\n",
      "X1,X0,Z1,Z0 were individually input (not dataprep object.)\n",
      "\n",
      "\n",
      "**************** \n",
      " searching for synthetic control unit  \n",
      " \n",
      "\n",
      "**************** \n",
      "**************** \n",
      "**************** \n",
      "\n",
      "MSPE (LOSS V): 8.16757 \n",
      "\n",
      "solution.v:\n",
      " 0.0001115552 0.0008888668 4.01784e-05 0.03559134 0.01439611 0.4107485 0.5382234 \n",
      "\n",
      "solution.w:\n",
      " 0.0113951 0.1045988 0.001294214 0.2360743 0.002782756 0.002245922 0.00356553 0.001765784 0.2824266 0.002653316 0.001721159 0.0006364227 0.001583128 0.0855436 0.003014877 0.004621745 0.002265988 0.002010739 0.002830409 0.001771492 0.0007673549 0.00293866 0.001440867 0.001656132 0.002336434 0.001116799 0.002680952 0.0128185 0.001805715 0.003699395 0.003882499 0.001606824 0.1986499 0.001371511 0.001160308 0.004366334 0.0009600755 0.001939904 \n",
      "\n",
      "[1] \"Calcul du contrefactuel pour Etat 38\"\n",
      "X1,X0,Z1,Z0 were individually input (not dataprep object.)\n",
      "\n",
      "\n",
      "**************** \n",
      " searching for synthetic control unit  \n",
      " \n",
      "\n",
      "**************** \n",
      "**************** \n",
      "**************** \n",
      "\n",
      "MSPE (LOSS V): 2.980336 \n",
      "\n",
      "solution.v:\n",
      " 0.0007260472 0.02386751 0.007204389 4e-10 0.08642493 0.3783407 0.5034364 \n",
      "\n",
      "solution.w:\n",
      " 0.001967709 0.0007797154 0.0003773044 0.3984271 2.8912e-05 0.0007200788 0.0003819078 0.000502778 0.0006279326 0.0006901473 0.0005605693 0.0001451471 0.0007781729 0.0009489353 0.001200981 0.2133284 0.000461742 0.0004309056 0.0006501871 0.0004097632 7.76412e-05 0.0007864177 0.000210374 0.0006960094 0.0005579125 0.0004136678 0.0005324644 0.179171 0.0003778366 0.0009211615 0.0008310678 0.0006942641 0.1880067 0.0004341779 0.0003098336 0.00167818 0.0002867896 0.0005960899 \n",
      "\n",
      "[1] \"Calcul du contrefactuel pour Etat 39\"\n",
      "X1,X0,Z1,Z0 were individually input (not dataprep object.)\n",
      "\n",
      "\n",
      "**************** \n",
      " searching for synthetic control unit  \n",
      " \n",
      "[1] \"Calcul du contrefactuel pour Etat 3\"\n",
      "X1,X0,Z1,Z0 were individually input (not dataprep object.)\n",
      "\n",
      "\n",
      "**************** \n",
      " searching for synthetic control unit  \n",
      " \n",
      "\n",
      "**************** \n",
      "**************** \n",
      "**************** \n",
      "\n",
      "MSPE (LOSS V): 3.209078 \n",
      "\n",
      "solution.v:\n",
      " 0.0005834245 0.03117412 0.003366973 0.01243231 0.06817527 0.3917451 0.4925228 \n",
      "\n",
      "solution.w:\n",
      " 1.54275e-05 1.27942e-05 0.1746846 0.06241991 1.58974e-05 1.6702e-05 0.0005198326 5.2369e-05 1.70181e-05 3.50418e-05 3.29133e-05 6.2085e-06 1.28701e-05 1.56504e-05 0.0003307645 1.35409e-05 1.89209e-05 0.1819706 0.0001088185 0.2357516 4.9e-09 0.0003359042 8.077e-06 7.8716e-06 2.06963e-05 9.3329e-06 3.91288e-05 1.56474e-05 1.55553e-05 3.18604e-05 1.51673e-05 2.354e-07 0.3432236 1.1756e-05 2.24389e-05 1.89056e-05 0.0001492861 2.30256e-05 \n",
      "\n"
     ]
    }
   ],
   "source": [
    "# On fait comme si chaque Etat était traité\n",
    "contrefactuels = matrix(nrow=nrow(data), ncol=length(smokeNames))\n",
    "weights = matrix(nrow=nrow(data), ncol=nrow(data)-1)\n",
    "\n",
    "for(i in data[, \"State_ID\"]){\n",
    "    print(paste('Calcul du contrefactuel pour Etat', i))\n",
    "    \n",
    "    # Mise en place des bonnes matrices\n",
    "    X1 = t(data[data[, \"State_ID\"]==i, c(\"Income\", \"RetailPrice\", \"Young\", \"BeerCons\", \"Smoking1988\", \"Smoking1980\", \"Smoking1975\")])\n",
    "    X0 = t(data[data[, \"State_ID\"]!=i, c(\"Income\", \"RetailPrice\", \"Young\", \"BeerCons\", \"Smoking1988\", \"Smoking1980\", \"Smoking1975\")])\n",
    "\n",
    "    Z1 = t(data[data[, \"State_ID\"]==i, mapply(function(x) paste(\"SmokingCons\", x, sep=\"\"), 1970:1988)])\n",
    "    Z0 = t(data[data[, \"State_ID\"]!=i, mapply(function(x) paste(\"SmokingCons\", x, sep=\"\"), 1970:1988)])\n",
    "    \n",
    "    # Calcul des poids\n",
    "    error = FALSE\n",
    "    tryCatch({\n",
    "        sol = synth(X1=X1, X0=X0, Z0=Z0, Z1=Z1, V=V_sol, optimxmethod = \"Nelder-Mead\", verbose=FALSE)\n",
    "    }, error = function(e){\n",
    "        error = TRUE\n",
    "    })\n",
    "                                              \n",
    "    if(error){\n",
    "        print('Error for this state')\n",
    "    } else {\n",
    "    W = sol$solution.w\n",
    "    weights[i,] = W\n",
    "    # Calcul du contrefactuel\n",
    "    contrefactuels[i,] = t(as.matrix(data[data[, \"State_ID\"]!=i, smokeNames]))%*%W  \n",
    "    }                     \n",
    "}"
   ]
  },
  {
   "cell_type": "code",
   "execution_count": null,
   "metadata": {
    "vscode": {
     "languageId": "r"
    }
   },
   "outputs": [
    {
     "name": "stdout",
     "output_type": "stream",
     "text": [
      "[1] \"================================================================================\"\n",
      "[1] \"STATS : MSPE ET MSPE RATIO\"\n",
      "[1] \"================================================================================\"\n"
     ]
    },
    {
     "data": {
      "image/png": "[encoded data removed]",
      "text/plain": [
       "Plot with title “”"
      ]
     },
     "metadata": {
      "image/png": {
       "height": 420,
       "width": 420
      },
      "text/plain": {
       "height": 420,
       "width": 420
      }
     },
     "output_type": "display_data"
    },
    {
     "name": "stdout",
     "output_type": "stream",
     "text": [
      "[1] \"MSPE, p-value : 0.205\"\n",
      "[1] \"MSPE ratio, p-value : 0.026\"\n"
     ]
    },
    {
     "data": {
      "image/png": "[encoded data removed]",
      "text/plain": [
       "Plot with title “”"
      ]
     },
     "metadata": {
      "image/png": {
       "height": 420,
       "width": 420
      },
      "text/plain": {
       "height": 420,
       "width": 420
      }
     },
     "output_type": "display_data"
    }
   ],
   "source": [
    "print(paste(rep(\"=\", 80), collapse=\"\"))\n",
    "print(\"STATS : MSPE ET MSPE RATIO\")\n",
    "print(paste(rep(\"=\", 80), collapse=\"\"))\n",
    "\n",
    "# Calcul des statistiques de test\n",
    "testStats = data.frame()\n",
    "preTreatment = mapply(function(x) paste(\"SmokingCons\", x, sep=\"\"), 1970:1988)\n",
    "postTreatment = mapply(function(x) paste(\"SmokingCons\", x, sep=\"\"), 1989:2000)\n",
    "                       \n",
    "for(i in data[, 'State_ID']){ \n",
    "    TE = data[data[, 'State_ID']==i, smokeNames] - contrefactuels[i,]\n",
    "    testStats[i, \"MSPE\"] = apply(TE[postTreatment]^2, 1, mean)\n",
    "    testStats[i, \"MSPE_ratio\"] = apply(TE[postTreatment]^2, 1, mean) / apply(TE[preTreatment]^2, 1, mean)\n",
    "}\n",
    "\n",
    "rownames(testStats) = rownames(data[order(data[,\"State_ID\"]),])\n",
    "\n",
    "hist(testStats[,'MSPE'],\n",
    "     breaks=38,\n",
    "     main=\"\",\n",
    "    xlab=\"MSPE\",\n",
    "    col=c(rep(\"white\", 7), \"steelblue\", rep(\"white\", 20)))\n",
    "\n",
    "hist(testStats[,'MSPE_ratio'],\n",
    "     breaks=38,\n",
    "    main=\"\",\n",
    "    xlab=\"MSPE ratio post-traitement / pre-traitement\",\n",
    "    col=c(rep(\"white\", 24), \"steelblue\"))\n",
    "\n",
    "\n",
    "print(paste(\"MSPE, p-value :\", round(mean(testStats[,'MSPE'] >= testStats[3,'MSPE']),3)))\n",
    "print(paste(\"MSPE ratio, p-value :\", round(mean(testStats[,'MSPE_ratio'] >= testStats[3,'MSPE_ratio']), 3)))"
   ]
  },
  {
   "cell_type": "code",
   "execution_count": null,
   "metadata": {
    "vscode": {
     "languageId": "r"
    }
   },
   "outputs": [
    {
     "data": {
      "text/html": [
       "<strong>png:</strong> 2"
      ],
      "text/latex": [
       "\\textbf{png:} 2"
      ],
      "text/markdown": [
       "**png:** 2"
      ],
      "text/plain": [
       "png \n",
       "  2 "
      ]
     },
     "metadata": {},
     "output_type": "display_data"
    }
   ],
   "source": [
    "jpeg(\"Tobacco_Fig_4.jpg\",res=150, width = 1500, height = 750)\n",
    "par(mfrow=c(1,2))\n",
    "hist(testStats[,'MSPE'],\n",
    "     breaks=38,\n",
    "     main=\"\",\n",
    "    xlab=\"MSPE\",\n",
    "    col=c(rep(\"white\", 7), \"steelblue\", rep(\"white\", 20)))\n",
    "\n",
    "hist(testStats[,'MSPE_ratio'],\n",
    "     breaks=38,\n",
    "    main=\"\",\n",
    "    xlab=\"MSPE ratio post-traitement / pre-traitement\",\n",
    "    col=c(rep(\"white\", 24), \"steelblue\"))\n",
    "dev.off()\n",
    "\n"
   ]
  },
  {
   "cell_type": "markdown",
   "metadata": {},
   "source": [
    "# 5. INFERENCE -- INTERVALLE DE CONFIANCE -- Figure 10.6"
   ]
  },
  {
   "cell_type": "code",
   "execution_count": null,
   "metadata": {
    "vscode": {
     "languageId": "r"
    }
   },
   "outputs": [],
   "source": [
    "compute.pval <- function(data, outcome, Wsol, C){\n",
    "    #' fonction pour calculer la p-value à chaque date\n",
    "    #' Utilise l'ATE comme statistique\n",
    "    #' @param data: the dataframe\n",
    "    #' @param outcome: tobacco consumption for that year, SmokingConsXXXX\n",
    "    #' @param Wsol: the weights\n",
    "    #' @param C: the constant of the null hypothesis\n",
    "    \n",
    "    theta.reshuffled = vector(length=nrow(data))\n",
    "    \n",
    "    for(i in data[, \"State_ID\"]){\n",
    "        newOutcome = data[, outcome] + as.numeric(i!=3)*C*(data[, \"State_ID\"]==i)  - as.numeric(i!=3)*C*(data[, \"State_ID\"]==3)\n",
    "        theta.reshuffled[i] = newOutcome[data[, \"State_ID\"]==i] - newOutcome[data[, \"State_ID\"]!=i]%*%weights[i,]\n",
    "    }\n",
    "    theta.obs = theta.reshuffled[3] # California id = 3\n",
    "    p.val = mean(abs(theta.reshuffled - C) >= abs(theta.obs-C))\n",
    "    return(list(p.val=p.val,\n",
    "                theta.reshuffled=theta.reshuffled))\n",
    "}\n",
    "\n",
    "compute.pval.MSPE.ratio <- function(data, outcomes, postTreatment, Wsol, C){\n",
    "    #' fonction pour calculer la p-value à partir du MSPE ratio\n",
    "    #' @param data: the dataframe\n",
    "    #' @param outcomes: consommation de tabac\n",
    "    #' @param postTreatment: indicatrice de la periode post-traitement\n",
    "    #' @param Wsol: the weights\n",
    "    #' @param C: the constant of the null hypothesis\n",
    "    \n",
    "    ratio.reshuffled = vector(length=nrow(data))\n",
    "    \n",
    "    for(i in data[, \"State_ID\"]){\n",
    "        TE = vector(length=length(outcomes))\n",
    "        for(t in 1:length(outcomes)){\n",
    "            if(outcomes[t] %in% postTreatment){\n",
    "                newOutcome = data[, outcomes[t]] + as.numeric(i!=3)*C*(data[, \"State_ID\"]==i)  - as.numeric(i!=3)*C*(data[, \"State_ID\"]==3)\n",
    "                TE[t] = newOutcome[data[, \"State_ID\"]==i] - newOutcome[data[, \"State_ID\"]!=i]%*%weights[i,] - C\n",
    "            } else {\n",
    "                newOutcome = data[, outcomes[t]]\n",
    "                TE[t] = newOutcome[data[, \"State_ID\"]==i] - newOutcome[data[, \"State_ID\"]!=i]%*%weights[i,]\n",
    "            }\n",
    "            \n",
    "        }\n",
    "        ratio.reshuffled[i] = mean(TE[outcomes %in% postTreatment]^2) / mean(TE[!(outcomes %in% postTreatment)]^2)\n",
    "    }\n",
    "    ratio.obs = ratio.reshuffled[3] # California id = 3\n",
    "    p.val = mean(ratio.reshuffled >= ratio.obs)\n",
    "    return(list(p.val=p.val,\n",
    "                ratio.reshuffled=ratio.reshuffled))\n",
    "}"
   ]
  },
  {
   "cell_type": "code",
   "execution_count": null,
   "metadata": {
    "vscode": {
     "languageId": "r"
    }
   },
   "outputs": [
    {
     "name": "stdout",
     "output_type": "stream",
     "text": [
      "[1] \"================================================================================\"\n",
      "[1] \"CALCUL DE L'INTERVALLE DE CONFIANCE A PARTIR D'UNE HYPOTHESE GLOBALE, PAR DICHOTOMIE\"\n",
      "[1] \"================================================================================\"\n",
      "[1] \"0.2 confidence interval : [-25.28,-12.14]\"\n"
     ]
    }
   ],
   "source": [
    "alpha = .2\n",
    "\n",
    "# 1. Upper bound\n",
    "res0 = compute.pval.MSPE.ratio(data, outcomes=smokeNames, postTreatment=postTreatment, Wsol=weights, C=theta.obs)\n",
    "b = 0; eps = .01\n",
    "repeat{\n",
    "    res0 = compute.pval.MSPE.ratio(data, outcomes=smokeNames, postTreatment=postTreatment, Wsol=weights, C=b)\n",
    "    if(res0$p.val < alpha) break\n",
    "    res1 = compute.pval.MSPE.ratio(data, outcomes=smokeNames, postTreatment=postTreatment, Wsol=weights, C=b+eps)\n",
    "    b = b + (alpha - res0$p.val)*eps/(res1$p.val-res0$p.val)\n",
    "}\n",
    "a = mean(treatmentPlot)-10\n",
    "f_a = 1-alpha\n",
    "repeat{\n",
    "    m = (a+b)/2\n",
    "    res = compute.pval.MSPE.ratio(data, outcomes=smokeNames, postTreatment=postTreatment, Wsol=weights, C=m)\n",
    "    f_m = res$p.val - alpha\n",
    "    if(f_m*f_a > 0){\n",
    "        a = m\n",
    "        f_a = f_m\n",
    "    } else {\n",
    "        b = m\n",
    "    }\n",
    "    if(abs(b-a) < .001) break\n",
    "    }\n",
    "Cu = (a+b)/2\n",
    "\n",
    "# 2. Lower bound\n",
    "res0 = compute.pval.MSPE.ratio(data, outcomes=smokeNames, postTreatment=postTreatment, Wsol=weights, C=theta.obs)\n",
    "a = -50\n",
    "repeat{\n",
    "    res0 = compute.pval.MSPE.ratio(data, outcomes=smokeNames, postTreatment=postTreatment, Wsol=weights, C=a)\n",
    "    if(res0$p.val < alpha) break\n",
    "    res1 = compute.pval.MSPE.ratio(data, outcomes=smokeNames, postTreatment=postTreatment, Wsol=weights, C=a-eps)\n",
    "    a = a + (alpha - res0$p.val)*eps/(res0$p.val-res1$p.val)\n",
    "}\n",
    "b = -20\n",
    "f_b = 1-alpha\n",
    "repeat{\n",
    "    m = (a+b)/2\n",
    "    res = compute.pval.MSPE.ratio(data, outcomes=smokeNames, postTreatment=postTreatment, Wsol=weights, C=m)\n",
    "    f_m = res$p.val - alpha\n",
    "    if(f_m*f_b > 0){\n",
    "        b = m\n",
    "        f_b = f_m\n",
    "    } else {\n",
    "        a = m\n",
    "    }\n",
    "    if(abs(b-a) < .001) break\n",
    "    }\n",
    "Cl = (a+b)/2\n",
    "\n",
    "print(paste0(alpha,\" confidence interval : [\",round(Cl,2),\",\",round(Cu, 2),\"]\")) \n",
    "\n",
    "# Collecte des données pour le graphe\n",
    "confidenceInterval_global = matrix(rep(treatmentEffect_hat, 2), ncol=2)\n",
    "rownames(confidenceInterval_global) = smokeNames\n",
    "confidenceInterval_global[c('SmokingCons1988', postTreatment),1] = Cl\n",
    "confidenceInterval_global[c('SmokingCons1988', postTreatment),2] = Cu\n",
    "confidenceInterval_global[!(smokeNames %in% c('SmokingCons1988', postTreatment)),] = NA "
   ]
  },
  {
   "cell_type": "code",
   "execution_count": null,
   "metadata": {
    "vscode": {
     "languageId": "r"
    }
   },
   "outputs": [
    {
     "name": "stdout",
     "output_type": "stream",
     "text": [
      "[1] \"================================================================================\"\n",
      "[1] \"CALCUL DE L'INTERVALLE DE CONFIANCE A CHAQUE POINT DU TEMPS, PAR DICHOTOMIE\"\n",
      "[1] \"================================================================================\"\n",
      "[1] \"1988 , 0.2 confidence interval : [-10.13,9.11]\"\n",
      "[1] \"1989 , 0.2 confidence interval : [-15.2,2.49]\"\n",
      "[1] \"1990 , 0.2 confidence interval : [-25.05,6.43]\"\n",
      "[1] \"1991 , 0.2 confidence interval : [-28.75,2.11]\"\n",
      "[1] \"1992 , 0.2 confidence interval : [-28.54,0.79]\"\n",
      "[1] \"1993 , 0.2 confidence interval : [-33.93,-1.26]\"\n",
      "[1] \"1994 , 0.2 confidence interval : [-40.35,-3.46]\"\n",
      "[1] \"1995 , 0.2 confidence interval : [-41.48,-3.54]\"\n",
      "[1] \"1996 , 0.2 confidence interval : [-43.68,-2.18]\"\n",
      "[1] \"1997 , 0.2 confidence interval : [-47.84,-1.58]\"\n",
      "[1] \"1998 , 0.2 confidence interval : [-44.54,-0.17]\"\n",
      "[1] \"1999 , 0.2 confidence interval : [-53.6,1.56]\"\n",
      "[1] \"2000 , 0.2 confidence interval : [-46.32,-4.55]\"\n"
     ]
    }
   ],
   "source": [
    "alpha = .2\n",
    "confidenceInterval = matrix(nrow=length(smokeNames), ncol=2)\n",
    "rownames(confidenceInterval) = smokeNames\n",
    "\n",
    "for(t in 1988:2000){\n",
    "    outcome = paste0('SmokingCons', t)\n",
    "    theta.obs = data[data[, 'State_ID']==3, outcome] - contrefactuels[3, smokeNames==outcome]\n",
    "    \n",
    "    # 1. Upper bound\n",
    "    # A. On cherche une valeur initiale\n",
    "    res0 = compute.pval(data, outcome, weights, C=theta.obs)\n",
    "    b = max(res0$theta.reshuffled); eps = .01\n",
    "    repeat{\n",
    "        res0 = compute.pval(data, outcome, weights, C=b)\n",
    "        if(res0$p.val < alpha) break\n",
    "        res1 = compute.pval(data, outcome, weights, C=b+eps)\n",
    "        b = b + (alpha - res0$p.val)*eps/(res1$p.val-res0$p.val)\n",
    "    }\n",
    "    # B. Dichotomie\n",
    "    a = theta.obs\n",
    "    f_a = 1-alpha\n",
    "    repeat{\n",
    "        m = (a+b)/2\n",
    "        res = compute.pval(data, outcome, weights, C=m)\n",
    "        f_m = res$p.val - alpha\n",
    "        if(f_m*f_a > 0){\n",
    "            a = m\n",
    "            f_a = f_m\n",
    "        } else {\n",
    "            b = m\n",
    "        }\n",
    "        if(abs(b-a) < .001) break\n",
    "        }\n",
    "    Cu = (a+b)/2\n",
    "    \n",
    "    # 2. Lower bound\n",
    "    # A. On cherche une valeur initiale\n",
    "    res0 = compute.pval(data, outcome, weights, C=theta.obs)\n",
    "    a = min(res0$theta.reshuffled)\n",
    "    repeat{\n",
    "        res0 = compute.pval(data, outcome, weights, C=a)\n",
    "        if(res0$p.val < alpha) break\n",
    "        res1 = compute.pval(data, outcome, weights, C=a-eps)\n",
    "        a = a + (alpha - res0$p.val)*eps/(res0$p.val-res1$p.val)\n",
    "    }\n",
    "    # B. Dichotomie\n",
    "    b = theta.obs\n",
    "    f_b = 1-alpha\n",
    "    repeat{\n",
    "        m = (a+b)/2\n",
    "        res = compute.pval(data, outcome, weights, C=m)\n",
    "        f_m = res$p.val - alpha\n",
    "        if(f_m*f_b > 0){\n",
    "            b = m\n",
    "            f_b = f_m\n",
    "        } else {\n",
    "            a = m\n",
    "        }\n",
    "        if(abs(b-a) < .001) break\n",
    "        }\n",
    "    Cl = (a+b)/2\n",
    "  \n",
    "    print(paste0(t, \" , \", alpha,\" confidence interval : [\",round(Cl,2),\",\",round(Cu, 2),\"]\")) \n",
    "    confidenceInterval[outcome, ] = c(Cl, Cu)\n",
    "}"
   ]
  },
  {
   "cell_type": "code",
   "execution_count": null,
   "metadata": {
    "vscode": {
     "languageId": "r"
    }
   },
   "outputs": [
    {
     "data": {
      "image/png": "[encoded data removed]",
      "text/plain": [
       "plot without title"
      ]
     },
     "metadata": {
      "image/png": {
       "height": 420,
       "width": 420
      },
      "text/plain": {
       "height": 420,
       "width": 420
      }
     },
     "output_type": "display_data"
    }
   ],
   "source": [
    "# FIG 4\n",
    "treatmentInferencePlot = ts(cbind(c(treatmentEffect_hat),\n",
    "                                  confidenceInterval[,1],\n",
    "                                  confidenceInterval[,2],\n",
    "                                  confidenceInterval_global[,1],\n",
    "                                  confidenceInterval_global[,2]), start=c(1970), freq=1)\n",
    "\n",
    "plot(treatmentInferencePlot,\n",
    "     plot.type=\"single\",\n",
    "     col=c(\"steelblue\", \"steelblue\", \"steelblue\", \"firebrick\", \"firebrick\"),\n",
    "     lwd=2,\n",
    "     lty= c(1, 3, 3, 6, 6),\n",
    "     xlab=\"\",\n",
    "     ylab=\"Consommation de tabac (paquets / tête)\",\n",
    "     ylim=c(-60, 30))\n",
    "abline(h=0, lty=c(1))\n",
    "lim <- par(\"usr\")\n",
    "rect(1988, lim[3], lim[2], lim[4], col = rgb(0.5,0.5,0.5,1/4))\n",
    "axis(1) ## add axes back\n",
    "axis(2)\n",
    "box() \n",
    "legend(1971,-40,\n",
    "       legend=c(\"Effet du traitement\", \"IC (date par date)\", \"IC (hypothèse globale)\"),\n",
    "       col=c(\"steelblue\", \"steelblue\", \"firebrick\"), lwd=2,\n",
    "       lty=c(1,3,6))"
   ]
  },
  {
   "cell_type": "code",
   "execution_count": null,
   "metadata": {
    "vscode": {
     "languageId": "r"
    }
   },
   "outputs": [
    {
     "data": {
      "text/html": [
       "<strong>png:</strong> 2"
      ],
      "text/latex": [
       "\\textbf{png:} 2"
      ],
      "text/markdown": [
       "**png:** 2"
      ],
      "text/plain": [
       "png \n",
       "  2 "
      ]
     },
     "metadata": {},
     "output_type": "display_data"
    }
   ],
   "source": [
    "# SAVE FIG\n",
    "jpeg(\"Tobacco_Fig_5.jpg\",res=150, width = 1000, height = 1000)\n",
    "plot(treatmentInferencePlot,\n",
    "     plot.type=\"single\",\n",
    "     col=c(\"steelblue\", \"steelblue\", \"steelblue\", \"firebrick\", \"firebrick\"),\n",
    "     lwd=2,\n",
    "     lty= c(1, 3, 3, 6, 6),\n",
    "     xlab=\"\",\n",
    "     ylab=\"Consommation de tabac (paquets / tête)\",\n",
    "     ylim=c(-60, 30))\n",
    "abline(h=0, lty=c(1))\n",
    "lim <- par(\"usr\")\n",
    "rect(1988, lim[3], lim[2], lim[4], col = rgb(0.5,0.5,0.5,1/4))\n",
    "axis(1) ## add axes back\n",
    "axis(2)\n",
    "box() \n",
    "legend(1971,-40,\n",
    "       legend=c(\"Effet du traitement\", \"IC (date par date)\", \"IC (hypothèse globale)\"),\n",
    "       col=c(\"steelblue\", \"steelblue\", \"firebrick\"), lwd=2,\n",
    "       lty=c(1,3,6))\n",
    "dev.off()"
   ]
  },
  {
   "cell_type": "markdown",
   "metadata": {},
   "source": [
    "# Test via la procédure de Chernozhukov et al. (2017)"
   ]
  },
  {
   "cell_type": "code",
   "execution_count": null,
   "metadata": {
    "vscode": {
     "languageId": "r"
    }
   },
   "outputs": [
    {
     "name": "stdout",
     "output_type": "stream",
     "text": [
      "[1] \"================================================================================\"\n",
      "[1] \"CALCUL DES POIDS POUR TEST CHERNOZHUKOV ET AL. (2017)\"\n",
      "[1] \"================================================================================\"\n",
      "X1,X0,Z1,Z0 were individually input (not dataprep object.)\n",
      "\n",
      "\n",
      "**************** \n",
      " searching for synthetic control unit  \n",
      " \n",
      "                     p1         p2         p3         p4         p5         p6\n",
      "Nelder-Mead 0.005209653 0.02925563 0.02615175 0.02604428 0.02743305 0.03536143\n",
      "                    p7         p8         p9       p10        p11       p12\n",
      "Nelder-Mead 0.03243455 0.03300012 0.02887675 0.0277792 0.02945365 0.0294165\n",
      "                   p13        p14        p15       p16       p17        p18\n",
      "Nelder-Mead 0.02746699 0.03369089 0.02868105 0.0196227 0.0276939 0.02739081\n",
      "                   p19        p20        p21        p22        p23        p24\n",
      "Nelder-Mead 0.02809157 0.02777931 0.02736381 0.02623198 0.02738114 0.02658518\n",
      "                   p25       p26        p27        p28        p29        p30\n",
      "Nelder-Mead 0.02707383 0.0295508 0.02470403 0.02493139 0.02237642 0.02488024\n",
      "                   p31        p32        p33        p34        p35        p36\n",
      "Nelder-Mead 0.02468781 0.02125087 0.02556269 0.02494323 0.01687421 0.02234846\n",
      "                   p37        p38    value fevals gevals niter convcode kkt1\n",
      "Nelder-Mead 0.02208748 0.03239744 31.87062    501     NA    NA        1   NA\n",
      "            kkt2  xtime\n",
      "Nelder-Mead   NA 34.678\n",
      "\n",
      "**************** \n",
      "**************** \n",
      "**************** \n",
      "\n",
      "MSPE (LOSS V): 31.87062 \n",
      "\n",
      "solution.v:\n",
      " 0.005198918 0.02919535 0.02609787 0.02599061 0.02737653 0.03528856 0.03236772 0.03293212 0.02881725 0.02772196 0.02939296 0.02935589 0.02741039 0.03362147 0.02862195 0.01958227 0.02763683 0.02733437 0.02803369 0.02772207 0.02730743 0.02617793 0.02732472 0.0265304 0.02701804 0.02948991 0.02465313 0.02488002 0.02233031 0.02482898 0.02463694 0.02120709 0.02551002 0.02489183 0.01683944 0.02230241 0.02204196 0.03233068 \n",
      "\n",
      "solution.w:\n",
      " 6.89e-08 7.43e-08 5.6377e-05 0.0438946 3.86e-08 1.187e-07 6.4835e-06 0.0001263204 4.87e-08 1.383e-07 5.679e-07 4.5e-09 8.37e-08 1.867e-07 2.299e-07 6.11e-08 6.72e-08 3.198e-07 1.982e-07 0.2917129 9.28e-08 0.2286445 3.499e-07 3.747e-07 1.011e-07 1.549e-07 1.693e-07 7.617e-07 7.04e-08 1.337e-07 5.06e-08 0.04058837 0.3949652 1.26e-07 2.742e-07 6.64e-08 6.39e-08 2.284e-07 \n",
      "\n"
     ]
    }
   ],
   "source": [
    "print(paste(rep(\"=\", 80), collapse=\"\"))\n",
    "print(\"CALCUL DES POIDS POUR TEST CHERNOZHUKOV ET AL. (2017)\")\n",
    "print(paste(rep(\"=\", 80), collapse=\"\"))\n",
    "\n",
    "# On teste l'hypothèse nulle d'absence d'effet de traitement\n",
    "\n",
    "X1 = t(data[data[,\"Treated\"]==1, c(\"Income\", \"RetailPrice\", \"Young\", \"BeerCons\", \"Smoking1988\",\"Smoking1980\",\"Smoking1975\", smokeNames)])\n",
    "X0 = t(data[data[,\"Treated\"]==0, c(\"Income\", \"RetailPrice\", \"Young\", \"BeerCons\", \"Smoking1988\",\"Smoking1980\",\"Smoking1975\", smokeNames)])\n",
    "\n",
    "Z1 = t(data[data[,\"Treated\"]==1, mapply(function(x) paste(\"SmokingCons\", x, sep=\"\"), 1970:1988)])\n",
    "Z0 = t(data[data[,\"Treated\"]==0, mapply(function(x) paste(\"SmokingCons\", x, sep=\"\"), 1970:1988)])\n",
    "\n",
    "solution = synth(X1=X1,\n",
    "                 X0=X0,\n",
    "                 Z0=Z0,\n",
    "                 Z1=Z1,\n",
    "                 custom.v = NULL,\n",
    "                 optimxmethod = \"Nelder-Mead\",\n",
    "                 verbose=TRUE)   \n",
    "                                        \n",
    "W_conformal = solution$solution.w                             "
   ]
  },
  {
   "cell_type": "code",
   "execution_count": null,
   "metadata": {
    "vscode": {
     "languageId": "r"
    }
   },
   "outputs": [
    {
     "name": "stdout",
     "output_type": "stream",
     "text": [
      "[1] \"================================================================================\"\n",
      "[1] \"CALCUL DE LA STATISTIQUE DE TEST\"\n",
      "[1] \"================================================================================\"\n",
      "[1] \"p-value avec l'inférence conformelle : 0\"\n"
     ]
    }
   ],
   "source": [
    "print(paste(rep(\"=\", 80), collapse=\"\"))\n",
    "print(\"CALCUL DE LA STATISTIQUE DE TEST\")\n",
    "print(paste(rep(\"=\", 80), collapse=\"\"))\n",
    "\n",
    "n_perm = 10000\n",
    "\n",
    "post_treat = smokeNames %in% mapply(function(x) paste(\"SmokingCons\", x, sep=\"\"), 1989:2000)\n",
    "u_hat = data[data[,\"Treated\"]==1, smokeNames] - t(as.matrix(data[data[,\"Treated\"]==0, smokeNames]))%*%W_conformal\n",
    "\n",
    "stat_obs = sum(abs(u_hat[post.ind])) # Statistique observée\n",
    "\n",
    "u_hat_p = matrix(unlist(replicate(n_perm, sample(u_hat, replace=F))), ncol=n_perm)\n",
    "stats_permut = apply(abs(u_hat_p[post_treat,]), 2, sum) # Statistiques permutation\n",
    "                                    \n",
    "conformal_pval = (1+sum(stats_permut>=stat_obs))/(n_perm+1)\n",
    "print(paste0(\"p-value avec l'inférence conformelle : \", round(conformal_pval, 3)))"
   ]
  },
  {
   "cell_type": "code",
   "execution_count": null,
   "metadata": {
    "vscode": {
     "languageId": "r"
    }
   },
   "outputs": [],
   "source": []
  }
 ],
 "metadata": {
  "kernelspec": {
   "display_name": "R",
   "language": "R",
   "name": "ir"
  },
  "language_info": {
   "codemirror_mode": "r",
   "file_extension": ".r",
   "mimetype": "text/x-r-source",
   "name": "R",
   "pygments_lexer": "r",
   "version": "4.3.0"
  }
 },
 "nbformat": 4,
 "nbformat_minor": 4
}
